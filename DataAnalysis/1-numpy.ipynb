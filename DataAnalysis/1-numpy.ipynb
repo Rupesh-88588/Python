{
 "cells": [
  {
   "cell_type": "markdown",
   "metadata": {},
   "source": [
    "### Numpy library"
   ]
  },
  {
   "cell_type": "code",
   "execution_count": 2,
   "metadata": {},
   "outputs": [
    {
     "name": "stdout",
     "output_type": "stream",
     "text": [
      "[1 2 3 4 5]\n",
      "<class 'numpy.ndarray'>\n",
      "(5,)\n"
     ]
    }
   ],
   "source": [
    "import numpy as np\n",
    "\n",
    "#creating 1 D array\n",
    "arr=np.array([1,2,3,4,5])\n",
    "print(arr)\n",
    "print(type(arr))\n",
    "print(arr.shape)\n"
   ]
  },
  {
   "cell_type": "code",
   "execution_count": null,
   "metadata": {},
   "outputs": [],
   "source": [
    "arr2=np.array([1,2,3,4,5])\n",
    "arr2.reshape(1,5) # 1 row and 5 columns"
   ]
  },
  {
   "cell_type": "code",
   "execution_count": null,
   "metadata": {},
   "outputs": [],
   "source": [
    "arr2=np.array([[1,2,3,4,5],[6,7,8,9,10]])\n",
    "print(arr2)\n",
    "print(arr2.shape)  # 2 rows and 5 columns"
   ]
  },
  {
   "cell_type": "code",
   "execution_count": null,
   "metadata": {},
   "outputs": [],
   "source": [
    "np.arange(0,10,2).reshape(5,1) # just like range function in python and reshapes it to 5 rows and 1 column"
   ]
  },
  {
   "cell_type": "code",
   "execution_count": 14,
   "metadata": {},
   "outputs": [
    {
     "data": {
      "text/plain": [
       "array([[1., 1., 1., 1.],\n",
       "       [1., 1., 1., 1.],\n",
       "       [1., 1., 1., 1.]])"
      ]
     },
     "execution_count": 14,
     "metadata": {},
     "output_type": "execute_result"
    }
   ],
   "source": [
    "np.ones((3,4)) # creates 3 rows and 4 columns with all values as 1"
   ]
  },
  {
   "cell_type": "code",
   "execution_count": 15,
   "metadata": {},
   "outputs": [
    {
     "data": {
      "text/plain": [
       "array([[1., 0., 0.],\n",
       "       [0., 1., 0.],\n",
       "       [0., 0., 1.]])"
      ]
     },
     "execution_count": 15,
     "metadata": {},
     "output_type": "execute_result"
    }
   ],
   "source": [
    "#identity matrix\n",
    "np.eye(3) # 3x3 matrix with diagonal values as 1"
   ]
  },
  {
   "cell_type": "code",
   "execution_count": 17,
   "metadata": {},
   "outputs": [
    {
     "name": "stdout",
     "output_type": "stream",
     "text": [
      "[[0.00441602 0.57816186 0.7948685  0.85497564 0.23426585]\n",
      " [0.89735648 0.39962578 0.53379799 0.74887374 0.058207  ]\n",
      " [0.49668466 0.84955468 0.59872704 0.08431032 0.19962834]\n",
      " [0.71933922 0.72498821 0.4096832  0.03556313 0.50972927]\n",
      " [0.70977796 0.13271036 0.31471964 0.78003663 0.78340339]]\n"
     ]
    }
   ],
   "source": [
    "arr=np.random.rand(5,5) # 5x5 matrix with random values between 0 and 1\n",
    "print(arr)"
   ]
  },
  {
   "cell_type": "code",
   "execution_count": 22,
   "metadata": {},
   "outputs": [
    {
     "name": "stdout",
     "output_type": "stream",
     "text": [
      "Array [[ 1  2  3  4  5]\n",
      " [ 6  7  8  9 10]]\n",
      "Shape:  (2, 5)\n",
      "Size:  10\n",
      "Number of dimensions:  2\n",
      "Data type:  int64\n",
      "Item size:(in bytes)  8\n"
     ]
    }
   ],
   "source": [
    "#Attributes of numpy arrays\n",
    "arr=np.array([[1,2,3,4,5],[6,7,8,9,10]])\n",
    "\n",
    "print(\"Array\",arr)\n",
    "print(\"Shape: \",arr.shape)\n",
    "print(\"Size: \",arr.size)\n",
    "print(\"Number of dimensions: \",arr.ndim)\n",
    "print(\"Data type: \",arr.dtype)\n",
    "print(\"Item size:(in bytes) \",arr.itemsize)"
   ]
  },
  {
   "cell_type": "code",
   "execution_count": null,
   "metadata": {},
   "outputs": [
    {
     "name": "stdout",
     "output_type": "stream",
     "text": [
      "Addition:  [ 7  9 11 13 15]\n",
      "Subtraction:  [-5 -5 -5 -5 -5]\n",
      "Multiplication:  [ 6 14 24 36 50]\n",
      "Division:  [0.16666667 0.28571429 0.375      0.44444444 0.5       ]\n"
     ]
    }
   ],
   "source": [
    "#Numpy vectorized operations\n",
    "arr1=np.array([1,2,3,4,5])\n",
    "arr2=np.array([6,7,8,9,10])\n",
    "\n",
    "#Element wise addition\n",
    "print(\"Addition: \",arr1+arr2)\n",
    "#Element wise subtraction\n",
    "print(\"Subtraction: \",arr1-arr2)\n",
    "#Element wise multiplication\n",
    "print(\"Multiplication: \",arr1*arr2)\n",
    "#Element wise division\n",
    "print(\"Division: \",arr1/arr2)\n"
   ]
  },
  {
   "cell_type": "code",
   "execution_count": 28,
   "metadata": {},
   "outputs": [
    {
     "name": "stdout",
     "output_type": "stream",
     "text": [
      "Square root:  [1.         1.41421356 1.73205081 2.         2.23606798]\n",
      "Exponential:  [  2.71828183   7.3890561   20.08553692  54.59815003 148.4131591 ]\n",
      "Sine:  [ 0.84147098  0.90929743  0.14112001 -0.7568025  -0.95892427]\n",
      "Cosine:  [ 0.54030231 -0.41614684 -0.9899925  -0.65364362  0.28366219]\n",
      "Log:  [0.         0.69314718 1.09861229 1.38629436 1.60943791]\n"
     ]
    }
   ],
   "source": [
    "#Universl functions\n",
    "\n",
    "arr=np.array([1,2,3,4,5])\n",
    "\n",
    "#Square root\n",
    "print(\"Square root: \",np.sqrt(arr))\n",
    "#Exponential\n",
    "print(\"Exponential: \",np.exp(arr))\n",
    "#Sine\n",
    "print(\"Sine: \",np.sin(arr))\n",
    "#Cosine\n",
    "print(\"Cosine: \",np.cos(arr))\n",
    "#Log\n",
    "print(\"Log: \",np.log(arr))"
   ]
  },
  {
   "cell_type": "code",
   "execution_count": 20,
   "metadata": {},
   "outputs": [
    {
     "name": "stdout",
     "output_type": "stream",
     "text": [
      "Array:  [[ 1  2  3  4  5]\n",
      " [ 6  7  8  9 10]\n",
      " [11 12 13 14 15]]\n",
      "120\n"
     ]
    }
   ],
   "source": [
    "#Indexing and slicing\n",
    "arr=np.array([[1,2,3,4,5],[6,7,8,9,10],[11,12,13,14,15]])\n",
    "\n",
    "print(\"Array: \",arr)\n",
    "# print(\"Element at 0th row and 0th column: \",arr[0,0])\n",
    "# print(\"Element at 1st row and 2nd column: \",arr[1,2])\n",
    "# print(\"Elements from 0th row and 0th column to 1st row and 2nd column: \",arr[0:2,0:3])\n",
    "# print(arr[1:3,0:3]) # 1st row\n",
    "# print(arr.flatten()) # converts 2D array to 1D array\n",
    "# print(arr.ravel()) # converts 2D array to 1D array\n",
    "# print(arr)\n",
    "# print(arr.argmax())#index of maximum element\n",
    "# print(arr.argmin())#index of minimum element\n",
    "\n",
    "print(arr.sum())#sum of all elements\n"
   ]
  },
  {
   "cell_type": "code",
   "execution_count": 21,
   "metadata": {},
   "outputs": [
    {
     "name": "stdout",
     "output_type": "stream",
     "text": [
      "Mean:  3.0\n",
      "Standard deviation:  1.4142135623730951\n",
      "Variance:  2.0\n",
      "Original array:  [[ 1  2  3  4  5]\n",
      " [ 6  7  8  9 10]]\n",
      "Reshaped array:  [[ 1  2]\n",
      " [ 3  4]\n",
      " [ 5  6]\n",
      " [ 7  8]\n",
      " [ 9 10]]\n"
     ]
    }
   ],
   "source": [
    "data=np.array([1,2,3,4,5])\n",
    "\n",
    "avg=data.mean()\n",
    "print(\"Mean: \",avg)\n",
    "\n",
    "standard_deviation=data.std()\n",
    "print(\"Standard deviation: \",standard_deviation)\n",
    "\n",
    "variance=data.var()\n",
    "print(\"Variance: \",variance)\n",
    "\n",
    "# #Reshaping\n",
    "# arr=np.array([[1,2,3,4,5],[6,7,8,9,10]])\n",
    "# print(\"Original array: \",arr)\n",
    "# print(\"Reshaped array: \",arr.reshape(5,2))"
   ]
  }
 ],
 "metadata": {
  "kernelspec": {
   "display_name": "myvenv",
   "language": "python",
   "name": "python3"
  },
  "language_info": {
   "codemirror_mode": {
    "name": "ipython",
    "version": 3
   },
   "file_extension": ".py",
   "mimetype": "text/x-python",
   "name": "python",
   "nbconvert_exporter": "python",
   "pygments_lexer": "ipython3",
   "version": "3.12.4"
  }
 },
 "nbformat": 4,
 "nbformat_minor": 2
}
