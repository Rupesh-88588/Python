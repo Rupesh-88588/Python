{
 "cells": [
  {
   "cell_type": "markdown",
   "metadata": {},
   "source": [
    "## Data Visualization With Matplotlib"
   ]
  },
  {
   "cell_type": "code",
   "execution_count": 2,
   "metadata": {},
   "outputs": [],
   "source": [
    "import matplotlib.pyplot as plt"
   ]
  },
  {
   "cell_type": "code",
   "execution_count": null,
   "metadata": {},
   "outputs": [],
   "source": [
    "x=[1,2,3,4,5]\n",
    "y=[1,4,9,16,25]\n",
    "\n",
    "#Create a line and axis\n",
    "plt.plot(x,y)\n",
    "plt.xlabel('X-axis')\n",
    "plt.ylabel('Y-axis')\n",
    "plt.title('Basic line Graph')\n",
    "plt.show()\n",
    "\n"
   ]
  },
  {
   "cell_type": "code",
   "execution_count": null,
   "metadata": {},
   "outputs": [],
   "source": [
    "import numpy as np\n",
    "x = np.arange(0, 15, 0.1)\n",
    "y = np.sin(x)\n",
    "plt.plot(x, y)\n",
    "plt.show()"
   ]
  },
  {
   "cell_type": "code",
   "execution_count": null,
   "metadata": {},
   "outputs": [],
   "source": [
    "x=[1,2,3,4,5,30]\n",
    "y=[1,4,9,16,25,49]\n",
    "\n",
    "#Create a line and axis\n",
    "'''i want the y axis scale to be my own'''\n",
    "\n",
    "plt.plot(x,y,color='red',linestyle='--',marker='o',linewidth=2,markersize=10,markerfacecolor='blue')\n",
    "plt.xlabel('X-axis')\n",
    "plt.ylabel('Y-axis')\n",
    "plt.title('Basic line Graph')\n",
    "plt.grid(True)\n",
    "plt.xlim(0, 35)  # Set x-axis limits\n",
    "plt.ylim(0, 50)  # Set y-axis limits\n",
    "plt.xticks(range(0, max(x) + 1,3))  # Set x-axis ticks with a step of 3 units\n",
    "plt.yticks(range(0, max(y) + 1, 5)) # Set y-axis ticks with a step of 5 units\n",
    "plt.show()\n",
    "\n"
   ]
  },
  {
   "cell_type": "code",
   "execution_count": null,
   "metadata": {},
   "outputs": [],
   "source": [
    "import matplotlib.pyplot as plt\n",
    "import numpy as np\n",
    "\n",
    "# Create figure and multiple subplots for visual representation\n",
    "fig = plt.figure(figsize=(12, 8))\n",
    "\n",
    "# Subplot 1 (2x2 grid, first plot)\n",
    "ax1 = fig.add_subplot(2, 2, 1)\n",
    "x = np.linspace(0, 10, 100)\n",
    "ax1.plot(x, np.sin(x), label='sin(x)')\n",
    "ax1.set_title(\"Subplot 1 (Top Left)\")\n",
    "ax1.legend()\n",
    "\n",
    "# Subplot 2 (2x2 grid, second plot)\n",
    "ax2 = fig.add_subplot(2, 2, 2)\n",
    "ax2.plot(x, np.cos(x), label='cos(x)', color='orange')\n",
    "ax2.set_title(\"Subplot 2 (Top Right)\")\n",
    "ax2.legend()\n",
    "\n",
    "# Subplot 3 (2x2 grid, third plot)\n",
    "ax3 = fig.add_subplot(2, 2, 3)\n",
    "ax3.plot(x, np.tan(x), label='tan(x)', color='green')\n",
    "ax3.set_ylim(-10, 10)  # Limit y-axis for better visualization\n",
    "ax3.set_title(\"Subplot 3 (Bottom Left)\")\n",
    "ax3.legend()\n",
    "\n",
    "# Subplot 4 (2x2 grid, fourth plot)\n",
    "ax4 = fig.add_subplot(2, 2, 4)\n",
    "ax4.scatter(x, np.random.random(len(x)), label='Random', color='purple')\n",
    "ax4.set_title(\"Subplot 4 (Bottom Right)\")\n",
    "ax4.legend()\n",
    "\n",
    "# Add overall title for the figure\n",
    "fig.suptitle(\"Figure with 2x2 Subplots\", fontsize=16)\n",
    "\n",
    "# Adjust layout to prevent overlap\n",
    "plt.tight_layout(rect=[0, 0, 1, 0.95])\n",
    "plt.show()"
   ]
  },
  {
   "cell_type": "code",
   "execution_count": null,
   "metadata": {},
   "outputs": [],
   "source": [
    "plt.savefig('subplots.png')  # Save the figure as an image file"
   ]
  },
  {
   "cell_type": "code",
   "execution_count": null,
   "metadata": {},
   "outputs": [],
   "source": [
    "x=[1,2,3,4,5]\n",
    "y=[1,4,9,16,25]\n",
    "\n",
    "plt.figure(figsize=(10, 6))\n",
    "plt.subplot(1, 2, 1)\n",
    "plt.plot(x,y,color='red',linestyle='--',marker='o',linewidth=2,markersize=10,markerfacecolor='blue')\n",
    "plt.show()\n",
    "\n",
    "plt.subplot(1, 2, 2)\n",
    "plt.plot(x,y,color='red',linestyle='--',marker='o',linewidth=2,markersize=10,markerfacecolor='blue')\n",
    "plt.show()\n",
    "\n",
    "plt.subplot(2, 2, 3)\n",
    "plt.plot(x,y,color='red',linestyle='--',marker='o',linewidth=2,markersize=10,markerfacecolor='blue')\n",
    "plt.show()\n",
    "plt.subplot(2, 2, 4)\n",
    "plt.plot(x,y,color='red',linestyle='--',marker='o',linewidth=2,markersize=10,markerfacecolor='blue')\n",
    "plt.show()"
   ]
  },
  {
   "cell_type": "code",
   "execution_count": null,
   "metadata": {},
   "outputs": [],
   "source": [
    "categories = ['A', 'B', 'C', 'D']\n",
    "values = [3, 7, 8, 5]\n",
    "\n",
    "bar=plt.bar(categories, values, color='purple')\n",
    "bar[0].set_hatch('/')\n",
    "bar[1].set_hatch('o')\n",
    "\n",
    "plt.title('Bar Plot Example')\n",
    "plt.xlabel('Categories')\n",
    "plt.ylabel('Values')\n",
    "plt.show()\n"
   ]
  },
  {
   "cell_type": "code",
   "execution_count": null,
   "metadata": {},
   "outputs": [],
   "source": [
    "data = [1, 1, 2, 3, 3, 3, 4, 4, 5, 6, 7, 8, 8, 9]\n",
    "plt.hist(data, bins=5, color='orange', edgecolor='black')\n",
    "plt.title('Histogram Example')\n",
    "plt.xlabel('Bins')\n",
    "plt.ylabel('Frequency')\n",
    "plt.show()\n"
   ]
  },
  {
   "cell_type": "code",
   "execution_count": null,
   "metadata": {},
   "outputs": [],
   "source": [
    "labels = ['A', 'B', 'C', 'D']\n",
    "sizes = [15, 30, 45, 10]\n",
    "colors = ['gold', 'yellowgreen', 'lightcoral', 'lightskyblue']\n",
    "\n",
    "plt.pie(sizes, labels=labels, colors=colors, autopct='%1.1f%%', startangle=140)\n",
    "plt.title('Pie Chart Example')\n",
    "plt.axis('equal')  # Equal aspect ratio ensures that pie is drawn as a circle.\n",
    "plt.show()\n"
   ]
  },
  {
   "cell_type": "code",
   "execution_count": null,
   "metadata": {},
   "outputs": [],
   "source": [
    "import matplotlib.pyplot as plt\n",
    "import numpy as np\n",
    "\n",
    "# Generate data\n",
    "x = np.arange(0, 15, 0.1)\n",
    "y = np.sin(x)\n",
    "\n",
    "# Plot the line\n",
    "plt.plot(x, y, label='sin(x)')\n",
    "\n",
    "# Add markers at the endpoints\n",
    "plt.scatter([x[0], x[-1]], [y[0], y[-1]], color='red', marker='o', s=100, label='Endpoints')\n",
    "\n",
    "# Add labels and title\n",
    "plt.xlabel('X-axis')\n",
    "plt.ylabel('Y-axis')\n",
    "plt.title('Line Plot with Endpoints Marked')\n",
    "plt.legend()\n",
    "\n",
    "# Show the plot\n",
    "plt.show()"
   ]
  },
  {
   "cell_type": "markdown",
   "metadata": {},
   "source": [
    "### Real World Examples"
   ]
  },
  {
   "cell_type": "markdown",
   "metadata": {},
   "source": [
    "#### Line Graph"
   ]
  },
  {
   "cell_type": "code",
   "execution_count": 3,
   "metadata": {},
   "outputs": [],
   "source": [
    "import pandas as pd\n",
    "import numpy as np"
   ]
  },
  {
   "cell_type": "code",
   "execution_count": null,
   "metadata": {},
   "outputs": [],
   "source": [
    "gas=pd.read_csv('gas_prices.csv')\n",
    "\n",
    "plt.figure(figsize=(10, 6))\n",
    "plt.title('Gas Prices over Time (in USD)')\n",
    "# plt.plot(gas.Year, gas.USA, 'b.-', label='United States')\n",
    "# plt.plot(gas.Year, gas.Canada, 'r.-', label='Canada')\n",
    "# plt.plot(gas.Year, gas['South Korea'], 'g.-', label='South Korea')\n",
    "# plt.plot(gas.Year, gas.Australia, 'y.-', label='Australia')\n",
    "countries_to_lookat=['Australia','Canada','USA','Japan']\n",
    "for country in countries_to_lookat:\n",
    "    if country!='Year':\n",
    "        plt.plot(gas.Year, gas[country], marker='.', label=country)\n",
    "\n",
    "plt.xlabel('Year')\n",
    "plt.ylabel('US Dollars')\n",
    "\n",
    "plt.xticks(gas.Year[::3].tolist()+[2011])\n",
    "\n",
    "plt.legend(loc='upper left', bbox_to_anchor=(1, 1))\n",
    "\n",
    "plt.savefig('gas.png',dpi=300)\n",
    "plt.show()\n"
   ]
  },
  {
   "cell_type": "markdown",
   "metadata": {},
   "source": [
    "#### Load FIFA Data"
   ]
  },
  {
   "cell_type": "code",
   "execution_count": 15,
   "metadata": {},
   "outputs": [],
   "source": [
    "fifa = pd.read_csv('fifa_data.csv')\n"
   ]
  },
  {
   "cell_type": "markdown",
   "metadata": {},
   "source": [
    "### Histogram"
   ]
  },
  {
   "cell_type": "code",
   "execution_count": null,
   "metadata": {},
   "outputs": [],
   "source": [
    "bins=[40,50,60,70,80,90]\n",
    "plt.hist(fifa.Overall,bins=bins,color='#93efd0')\n",
    "\n",
    "plt.title('Fifa 2018 players stats')\n",
    "plt.xlabel('Skill level')\n",
    "plt.ylabel('No of players')\n",
    "plt.xticks(bins)\n",
    "\n",
    "plt.show()"
   ]
  },
  {
   "cell_type": "markdown",
   "metadata": {},
   "source": [
    "### Pie Chart"
   ]
  },
  {
   "cell_type": "code",
   "execution_count": null,
   "metadata": {},
   "outputs": [],
   "source": [
    "left=fifa.loc[fifa['Preferred Foot']=='Left']\n",
    "print(left)\n",
    "print(left.shape)\n",
    "\n",
    "print(left.shape[0])\n",
    "print(left.iloc[left.shape[0]-1])"
   ]
  },
  {
   "cell_type": "code",
   "execution_count": null,
   "metadata": {},
   "outputs": [],
   "source": [
    "left = fifa.loc[fifa['Preferred Foot']=='Left'].shape[0]\n",
    "right = fifa.loc[fifa['Preferred Foot']=='Right'].shape[0]\n",
    "\n",
    "labels=['Left','Right']\n",
    "colors=['#cf959a','#b9646b']\n",
    "plt.pie([left,right],labels=labels,colors=colors,autopct='%.2f %%')\n",
    "plt.title('Foot Preferences of players in FIFA')\n",
    "\n",
    "plt.show()"
   ]
  },
  {
   "cell_type": "code",
   "execution_count": null,
   "metadata": {},
   "outputs": [],
   "source": [
    "fifa = pd.read_csv('fifa_data.csv')\n",
    "fifa.Weight=[int(x.strip('lbs')) if type(x)==str else x  for x in fifa.Weight]\n",
    "\n",
    "plt.title('Weight Distribution of FIFA players (in lbs)')\n",
    "plt.style.use('ggplot')\n",
    "light_weight=fifa.loc[fifa.Weight < 125].shape[0]\n",
    "light_medium=fifa.loc[(fifa.Weight > 125) & (fifa.Weight < 150)].shape[0]\n",
    "medium = fifa.loc[(fifa.Weight >150 ) & (fifa.Weight <175)].shape[0]\n",
    "medium_heavy = fifa.loc[(fifa.Weight >175 ) & (fifa.Weight <200)].shape[0]\n",
    "heavy = fifa.loc[fifa.Weight > 200].shape[0]\n",
    "\n",
    "weights=[light_weight,light_medium,medium,medium_heavy,heavy]\n",
    "labels=['light_weight','light_medium','medium','medium_heavy','heavy']\n",
    "explode=(.4,.2,0,0,.4)\n",
    "\n",
    "plt.pie(weights,labels=labels,pctdistance=0.8,autopct='%.2f %%',explode=explode)\n",
    "\n",
    "\n",
    "plt.show()\n"
   ]
  },
  {
   "cell_type": "code",
   "execution_count": 6,
   "metadata": {},
   "outputs": [
    {
     "name": "stdout",
     "output_type": "stream",
     "text": [
      "      Name Preferred Foot   Age\n",
      "0  Player1           Left  25.0\n",
      "1  Player2           Left   NaN\n",
      "2     None           Left  20.0\n",
      "2\n",
      "3\n"
     ]
    }
   ],
   "source": [
    "\n",
    "\n",
    "data = {\n",
    "    'Name': ['Player1', 'Player2', None],\n",
    "    'Preferred Foot': ['Left', 'Left', 'Left'],\n",
    "    'Age': [25, None, 20]\n",
    "}\n",
    "\n",
    "fifa = pd.DataFrame(data)\n",
    "print(fifa)\n",
    "\n",
    "# Using .count()[0]\n",
    "left_count = fifa[fifa['Preferred Foot'] == 'Left'].count()['Name']\n",
    "print(left_count)  # Output: 2 (non-NaN 'Name' values)\n",
    "\n",
    "#Using .shape[0]\n",
    "left_count_shape = fifa[fifa['Preferred Foot'] == 'Left'].shape[0]\n",
    "print(left_count_shape)  # Output: 3 (total rows filtered)\n"
   ]
  },
  {
   "cell_type": "code",
   "execution_count": 11,
   "metadata": {},
   "outputs": [
    {
     "data": {
      "text/html": [
       "<div>\n",
       "<style scoped>\n",
       "    .dataframe tbody tr th:only-of-type {\n",
       "        vertical-align: middle;\n",
       "    }\n",
       "\n",
       "    .dataframe tbody tr th {\n",
       "        vertical-align: top;\n",
       "    }\n",
       "\n",
       "    .dataframe thead th {\n",
       "        text-align: right;\n",
       "    }\n",
       "</style>\n",
       "<table border=\"1\" class=\"dataframe\">\n",
       "  <thead>\n",
       "    <tr style=\"text-align: right;\">\n",
       "      <th></th>\n",
       "      <th>EMPLOYEE_CODE</th>\n",
       "      <th>EMPLOYEE_NAME</th>\n",
       "      <th>HEAD_QTR</th>\n",
       "      <th>DIVISION</th>\n",
       "      <th>CHEMIST_NAME</th>\n",
       "      <th>CHEMIST_AREA</th>\n",
       "      <th>ADDRESS_LINE1</th>\n",
       "      <th>ADDRESS_LINE2</th>\n",
       "      <th>PIN_CODE</th>\n",
       "      <th>PHONE</th>\n",
       "      <th>...</th>\n",
       "      <th>CHEMIST_TYPE</th>\n",
       "      <th>DEAL_YN</th>\n",
       "      <th>ROUTE_NAME</th>\n",
       "      <th>DA_TYPE</th>\n",
       "      <th>KM_SINGLE_SIDE</th>\n",
       "      <th>NO_OF_TIMES_IN_A_MONTH</th>\n",
       "      <th>TRAVEL_MODE</th>\n",
       "      <th>REPEATED_ROUTE</th>\n",
       "      <th>ADD_DATE</th>\n",
       "      <th>CHEMIST_CODE</th>\n",
       "    </tr>\n",
       "  </thead>\n",
       "  <tbody>\n",
       "    <tr>\n",
       "      <th>0</th>\n",
       "      <td>NaN</td>\n",
       "      <td>NARENDRA BABU</td>\n",
       "      <td>VIJAYAWADA</td>\n",
       "      <td>CATTLE</td>\n",
       "      <td>RAJESH MEDICAL AGENCIES</td>\n",
       "      <td>VIJAYAWADA</td>\n",
       "      <td>VIJAYAWADA</td>\n",
       "      <td>KRISHNA</td>\n",
       "      <td>520001</td>\n",
       "      <td>NaN</td>\n",
       "      <td>...</td>\n",
       "      <td>NaN</td>\n",
       "      <td>NaN</td>\n",
       "      <td>VIJAYAWADA TO CHALAPALLI</td>\n",
       "      <td>EX HQ</td>\n",
       "      <td>70</td>\n",
       "      <td>NaN</td>\n",
       "      <td>NaN</td>\n",
       "      <td>NaN</td>\n",
       "      <td>NaN</td>\n",
       "      <td>NaN</td>\n",
       "    </tr>\n",
       "    <tr>\n",
       "      <th>1</th>\n",
       "      <td>NaN</td>\n",
       "      <td>NaN</td>\n",
       "      <td>NaN</td>\n",
       "      <td>NaN</td>\n",
       "      <td>PRIYANKA MEDICALS</td>\n",
       "      <td>GANNAVARAM</td>\n",
       "      <td>GANNAVARAM</td>\n",
       "      <td>KRISHNA</td>\n",
       "      <td>521101</td>\n",
       "      <td>NaN</td>\n",
       "      <td>...</td>\n",
       "      <td>NaN</td>\n",
       "      <td>NaN</td>\n",
       "      <td>VIJAYAWADA TO HANUMAN JUNCTION</td>\n",
       "      <td>EX HQ</td>\n",
       "      <td>70</td>\n",
       "      <td>NaN</td>\n",
       "      <td>NaN</td>\n",
       "      <td>NaN</td>\n",
       "      <td>NaN</td>\n",
       "      <td>NaN</td>\n",
       "    </tr>\n",
       "    <tr>\n",
       "      <th>2</th>\n",
       "      <td>NaN</td>\n",
       "      <td>NaN</td>\n",
       "      <td>NaN</td>\n",
       "      <td>NaN</td>\n",
       "      <td>VET MEDITS</td>\n",
       "      <td>GANNAVARAM</td>\n",
       "      <td>GANNAVARAM</td>\n",
       "      <td>KRISHNA</td>\n",
       "      <td>521101</td>\n",
       "      <td>NaN</td>\n",
       "      <td>...</td>\n",
       "      <td>NaN</td>\n",
       "      <td>NaN</td>\n",
       "      <td>VIJAYAWADA TO HANUMAN JUNCTION</td>\n",
       "      <td>EX HQ</td>\n",
       "      <td>70</td>\n",
       "      <td>NaN</td>\n",
       "      <td>NaN</td>\n",
       "      <td>NaN</td>\n",
       "      <td>NaN</td>\n",
       "      <td>NaN</td>\n",
       "    </tr>\n",
       "    <tr>\n",
       "      <th>3</th>\n",
       "      <td>NaN</td>\n",
       "      <td>NaN</td>\n",
       "      <td>NaN</td>\n",
       "      <td>NaN</td>\n",
       "      <td>PASU PHARMA MEDICALS</td>\n",
       "      <td>HANUMAN JUNCTION</td>\n",
       "      <td>HANUMAN JUNCTION</td>\n",
       "      <td>KRISHNA</td>\n",
       "      <td>521105</td>\n",
       "      <td>NaN</td>\n",
       "      <td>...</td>\n",
       "      <td>NaN</td>\n",
       "      <td>NaN</td>\n",
       "      <td>VIJAYAWADA TO HANUMAN JUNCTION</td>\n",
       "      <td>EX HQ</td>\n",
       "      <td>70</td>\n",
       "      <td>NaN</td>\n",
       "      <td>NaN</td>\n",
       "      <td>NaN</td>\n",
       "      <td>NaN</td>\n",
       "      <td>NaN</td>\n",
       "    </tr>\n",
       "    <tr>\n",
       "      <th>4</th>\n",
       "      <td>NaN</td>\n",
       "      <td>NaN</td>\n",
       "      <td>NaN</td>\n",
       "      <td>NaN</td>\n",
       "      <td>VIJAYA MEDICALS</td>\n",
       "      <td>HANUMAN JUNCTION</td>\n",
       "      <td>HANUMAN JUNCTION</td>\n",
       "      <td>KRISHNA</td>\n",
       "      <td>521105</td>\n",
       "      <td>NaN</td>\n",
       "      <td>...</td>\n",
       "      <td>NaN</td>\n",
       "      <td>NaN</td>\n",
       "      <td>VIJAYAWADA TO HANUMAN JUNCTION</td>\n",
       "      <td>EX HQ</td>\n",
       "      <td>70</td>\n",
       "      <td>NaN</td>\n",
       "      <td>NaN</td>\n",
       "      <td>NaN</td>\n",
       "      <td>NaN</td>\n",
       "      <td>NaN</td>\n",
       "    </tr>\n",
       "  </tbody>\n",
       "</table>\n",
       "<p>5 rows × 27 columns</p>\n",
       "</div>"
      ],
      "text/plain": [
       "   EMPLOYEE_CODE  EMPLOYEE_NAME    HEAD_QTR DIVISION  \\\n",
       "0            NaN  NARENDRA BABU  VIJAYAWADA   CATTLE   \n",
       "1            NaN            NaN         NaN      NaN   \n",
       "2            NaN            NaN         NaN      NaN   \n",
       "3            NaN            NaN         NaN      NaN   \n",
       "4            NaN            NaN         NaN      NaN   \n",
       "\n",
       "               CHEMIST_NAME      CHEMIST_AREA     ADDRESS_LINE1 ADDRESS_LINE2  \\\n",
       "0  RAJESH MEDICAL AGENCIES         VIJAYAWADA        VIJAYAWADA       KRISHNA   \n",
       "1        PRIYANKA MEDICALS         GANNAVARAM        GANNAVARAM       KRISHNA   \n",
       "2               VET MEDITS         GANNAVARAM        GANNAVARAM       KRISHNA   \n",
       "3     PASU PHARMA MEDICALS   HANUMAN JUNCTION  HANUMAN JUNCTION       KRISHNA   \n",
       "4          VIJAYA MEDICALS   HANUMAN JUNCTION  HANUMAN JUNCTION       KRISHNA   \n",
       "\n",
       "   PIN_CODE  PHONE  ...  CHEMIST_TYPE  DEAL_YN  \\\n",
       "0    520001    NaN  ...           NaN      NaN   \n",
       "1    521101    NaN  ...           NaN      NaN   \n",
       "2    521101    NaN  ...           NaN      NaN   \n",
       "3    521105    NaN  ...           NaN      NaN   \n",
       "4    521105    NaN  ...           NaN      NaN   \n",
       "\n",
       "                       ROUTE_NAME  DA_TYPE  KM_SINGLE_SIDE  \\\n",
       "0        VIJAYAWADA TO CHALAPALLI    EX HQ              70   \n",
       "1  VIJAYAWADA TO HANUMAN JUNCTION    EX HQ              70   \n",
       "2  VIJAYAWADA TO HANUMAN JUNCTION    EX HQ              70   \n",
       "3  VIJAYAWADA TO HANUMAN JUNCTION    EX HQ              70   \n",
       "4  VIJAYAWADA TO HANUMAN JUNCTION    EX HQ              70   \n",
       "\n",
       "   NO_OF_TIMES_IN_A_MONTH  TRAVEL_MODE  REPEATED_ROUTE  ADD_DATE CHEMIST_CODE  \n",
       "0                     NaN          NaN             NaN       NaN          NaN  \n",
       "1                     NaN          NaN             NaN       NaN          NaN  \n",
       "2                     NaN          NaN             NaN       NaN          NaN  \n",
       "3                     NaN          NaN             NaN       NaN          NaN  \n",
       "4                     NaN          NaN             NaN       NaN          NaN  \n",
       "\n",
       "[5 rows x 27 columns]"
      ]
     },
     "execution_count": 11,
     "metadata": {},
     "output_type": "execute_result"
    }
   ],
   "source": [
    "df=pd.read_excel(\"chemist.xlsx\")\n",
    "df.head()"
   ]
  },
  {
   "cell_type": "code",
   "execution_count": 1,
   "metadata": {},
   "outputs": [
    {
     "data": {
      "image/png": "[encoded data removed]",
      "text/plain": [
       "<Figure size 640x480 with 1 Axes>"
      ]
     },
     "metadata": {},
     "output_type": "display_data"
    }
   ],
   "source": [
    "import numpy as np\n",
    "import matplotlib.pyplot as plt\n",
    "\n",
    "# Set the parameters for the log-normal distribution\n",
    "mu = 0  # Mean of the underlying normal distribution\n",
    "sigma = 1  # Standard deviation of the underlying normal distribution\n",
    "sample_size = 1000  # Number of data points in the sample\n",
    "\n",
    "# Generate the random sample\n",
    "sample = np.random.lognormal(mu, sigma, sample_size)\n",
    "\n",
    "# Plot the histogram of the sample\n",
    "plt.hist(sample, bins=50, edgecolor='k', alpha=0.7)\n",
    "plt.title('Histogram of Log-Normal Distribution Sample')\n",
    "plt.xlabel('Value')\n",
    "plt.ylabel('Frequency')\n",
    "plt.show()\n"
   ]
  },
  {
   "cell_type": "code",
   "execution_count": null,
   "metadata": {},
   "outputs": [],
   "source": []
  }
 ],
 "metadata": {
  "kernelspec": {
   "display_name": "myvenv",
   "language": "python",
   "name": "python3"
  },
  "language_info": {
   "codemirror_mode": {
    "name": "ipython",
    "version": 3
   },
   "file_extension": ".py",
   "mimetype": "text/x-python",
   "name": "python",
   "nbconvert_exporter": "python",
   "pygments_lexer": "ipython3",
   "version": "3.12.4"
  }
 },
 "nbformat": 4,
 "nbformat_minor": 2
}
