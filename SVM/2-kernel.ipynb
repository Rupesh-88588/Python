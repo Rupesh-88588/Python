{
 "cells": [
  {
   "cell_type": "markdown",
   "metadata": {},
   "source": [
    "### SVM Kernels"
   ]
  },
  {
   "cell_type": "code",
   "execution_count": 1,
   "metadata": {},
   "outputs": [],
   "source": [
    "import numpy as np\n",
    "import matplotlib.pyplot as plt\n",
    "\n",
    "x=np.linspace(-5.0,5.0,500)\n",
    "y=np.sqrt(10**2-x**2)\n"
   ]
  },
  {
   "cell_type": "code",
   "execution_count": 2,
   "metadata": {},
   "outputs": [],
   "source": [
    "y=np.hstack([y,-y])\n",
    "x=np.hstack([x,-x])\n",
    "\n"
   ]
  },
  {
   "cell_type": "code",
   "execution_count": 3,
   "metadata": {},
   "outputs": [],
   "source": [
    "x1=np.linspace(-5.0,5.0,500)\n",
    "y1=np.sqrt(5**2-x1**2)\n",
    "y1=np.hstack([y1,-y1])\n",
    "x1=np.hstack([x1,-x1])\n"
   ]
  },
  {
   "cell_type": "code",
   "execution_count": 4,
   "metadata": {},
   "outputs": [
    {
     "data": {
      "text/plain": [
       "<matplotlib.collections.PathCollection at 0x1fcb291e660>"
      ]
     },
     "execution_count": 4,
     "metadata": {},
     "output_type": "execute_result"
    },
    {
     "data": {
      "image/png": "[encoded data removed]",
      "text/plain": [
       "<Figure size 640x480 with 1 Axes>"
      ]
     },
     "metadata": {},
     "output_type": "display_data"
    }
   ],
   "source": [
    "plt.scatter(y,x)\n",
    "plt.scatter(y1,x1)"
   ]
  },
  {
   "cell_type": "code",
   "execution_count": 5,
   "metadata": {},
   "outputs": [
    {
     "data": {
      "text/html": [
       "<div>\n",
       "<style scoped>\n",
       "    .dataframe tbody tr th:only-of-type {\n",
       "        vertical-align: middle;\n",
       "    }\n",
       "\n",
       "    .dataframe tbody tr th {\n",
       "        vertical-align: top;\n",
       "    }\n",
       "\n",
       "    .dataframe thead th {\n",
       "        text-align: right;\n",
       "    }\n",
       "</style>\n",
       "<table border=\"1\" class=\"dataframe\">\n",
       "  <thead>\n",
       "    <tr style=\"text-align: right;\">\n",
       "      <th></th>\n",
       "      <th>x1</th>\n",
       "      <th>x2</th>\n",
       "      <th>y</th>\n",
       "    </tr>\n",
       "  </thead>\n",
       "  <tbody>\n",
       "    <tr>\n",
       "      <th>0</th>\n",
       "      <td>8.660254</td>\n",
       "      <td>-5.00000</td>\n",
       "      <td>0</td>\n",
       "    </tr>\n",
       "    <tr>\n",
       "      <th>1</th>\n",
       "      <td>8.671793</td>\n",
       "      <td>-4.97996</td>\n",
       "      <td>0</td>\n",
       "    </tr>\n",
       "    <tr>\n",
       "      <th>2</th>\n",
       "      <td>8.683271</td>\n",
       "      <td>-4.95992</td>\n",
       "      <td>0</td>\n",
       "    </tr>\n",
       "    <tr>\n",
       "      <th>3</th>\n",
       "      <td>8.694687</td>\n",
       "      <td>-4.93988</td>\n",
       "      <td>0</td>\n",
       "    </tr>\n",
       "    <tr>\n",
       "      <th>4</th>\n",
       "      <td>8.706043</td>\n",
       "      <td>-4.91984</td>\n",
       "      <td>0</td>\n",
       "    </tr>\n",
       "    <tr>\n",
       "      <th>...</th>\n",
       "      <td>...</td>\n",
       "      <td>...</td>\n",
       "      <td>...</td>\n",
       "    </tr>\n",
       "    <tr>\n",
       "      <th>995</th>\n",
       "      <td>-0.891727</td>\n",
       "      <td>-4.91984</td>\n",
       "      <td>1</td>\n",
       "    </tr>\n",
       "    <tr>\n",
       "      <th>996</th>\n",
       "      <td>-0.773038</td>\n",
       "      <td>-4.93988</td>\n",
       "      <td>1</td>\n",
       "    </tr>\n",
       "    <tr>\n",
       "      <th>997</th>\n",
       "      <td>-0.631819</td>\n",
       "      <td>-4.95992</td>\n",
       "      <td>1</td>\n",
       "    </tr>\n",
       "    <tr>\n",
       "      <th>998</th>\n",
       "      <td>-0.447213</td>\n",
       "      <td>-4.97996</td>\n",
       "      <td>1</td>\n",
       "    </tr>\n",
       "    <tr>\n",
       "      <th>999</th>\n",
       "      <td>-0.000000</td>\n",
       "      <td>-5.00000</td>\n",
       "      <td>1</td>\n",
       "    </tr>\n",
       "  </tbody>\n",
       "</table>\n",
       "<p>2000 rows × 3 columns</p>\n",
       "</div>"
      ],
      "text/plain": [
       "           x1       x2  y\n",
       "0    8.660254 -5.00000  0\n",
       "1    8.671793 -4.97996  0\n",
       "2    8.683271 -4.95992  0\n",
       "3    8.694687 -4.93988  0\n",
       "4    8.706043 -4.91984  0\n",
       "..        ...      ... ..\n",
       "995 -0.891727 -4.91984  1\n",
       "996 -0.773038 -4.93988  1\n",
       "997 -0.631819 -4.95992  1\n",
       "998 -0.447213 -4.97996  1\n",
       "999 -0.000000 -5.00000  1\n",
       "\n",
       "[2000 rows x 3 columns]"
      ]
     },
     "execution_count": 5,
     "metadata": {},
     "output_type": "execute_result"
    }
   ],
   "source": [
    "import pandas as pd\n",
    "\n",
    "df1=pd.DataFrame(np.vstack([y,x]).T,columns=['x1','x2'])\n",
    "df1[\"y\"]=0\n",
    "df2=pd.DataFrame(np.vstack([y1,x1]).T,columns=['x1','x2'])\n",
    "df2[\"y\"]=1\n",
    "\n",
    "df=pd.concat([df1,df2])\n",
    "df\n"
   ]
  },
  {
   "cell_type": "code",
   "execution_count": 6,
   "metadata": {},
   "outputs": [],
   "source": [
    "X=df.iloc[:,:2]\n",
    "y=df.iloc[:,2]\n"
   ]
  },
  {
   "cell_type": "code",
   "execution_count": 7,
   "metadata": {},
   "outputs": [],
   "source": [
    "from sklearn.model_selection import train_test_split\n",
    "X_train,X_test,y_train,y_test=train_test_split(X,y,test_size=0.3,random_state=0)\n"
   ]
  },
  {
   "cell_type": "code",
   "execution_count": 8,
   "metadata": {},
   "outputs": [],
   "source": [
    "df[\"x1_squared\"]=df[\"x1\"]**2\n",
    "df[\"x2_squared\"]=df[\"x2\"]**2\n",
    "df[\"x1_x2\"]=df[\"x1\"]*df[\"x2\"]\n",
    "\n"
   ]
  },
  {
   "cell_type": "code",
   "execution_count": 9,
   "metadata": {},
   "outputs": [
    {
     "data": {
      "text/html": [
       "<div>\n",
       "<style scoped>\n",
       "    .dataframe tbody tr th:only-of-type {\n",
       "        vertical-align: middle;\n",
       "    }\n",
       "\n",
       "    .dataframe tbody tr th {\n",
       "        vertical-align: top;\n",
       "    }\n",
       "\n",
       "    .dataframe thead th {\n",
       "        text-align: right;\n",
       "    }\n",
       "</style>\n",
       "<table border=\"1\" class=\"dataframe\">\n",
       "  <thead>\n",
       "    <tr style=\"text-align: right;\">\n",
       "      <th></th>\n",
       "      <th>x1</th>\n",
       "      <th>x2</th>\n",
       "      <th>y</th>\n",
       "      <th>x1_squared</th>\n",
       "      <th>x2_squared</th>\n",
       "      <th>x1_x2</th>\n",
       "    </tr>\n",
       "  </thead>\n",
       "  <tbody>\n",
       "    <tr>\n",
       "      <th>0</th>\n",
       "      <td>8.660254</td>\n",
       "      <td>-5.00000</td>\n",
       "      <td>0</td>\n",
       "      <td>75.000000</td>\n",
       "      <td>25.000000</td>\n",
       "      <td>-43.301270</td>\n",
       "    </tr>\n",
       "    <tr>\n",
       "      <th>1</th>\n",
       "      <td>8.671793</td>\n",
       "      <td>-4.97996</td>\n",
       "      <td>0</td>\n",
       "      <td>75.199999</td>\n",
       "      <td>24.800001</td>\n",
       "      <td>-43.185183</td>\n",
       "    </tr>\n",
       "    <tr>\n",
       "      <th>2</th>\n",
       "      <td>8.683271</td>\n",
       "      <td>-4.95992</td>\n",
       "      <td>0</td>\n",
       "      <td>75.399195</td>\n",
       "      <td>24.600805</td>\n",
       "      <td>-43.068328</td>\n",
       "    </tr>\n",
       "    <tr>\n",
       "      <th>3</th>\n",
       "      <td>8.694687</td>\n",
       "      <td>-4.93988</td>\n",
       "      <td>0</td>\n",
       "      <td>75.597588</td>\n",
       "      <td>24.402412</td>\n",
       "      <td>-42.950710</td>\n",
       "    </tr>\n",
       "    <tr>\n",
       "      <th>4</th>\n",
       "      <td>8.706043</td>\n",
       "      <td>-4.91984</td>\n",
       "      <td>0</td>\n",
       "      <td>75.795178</td>\n",
       "      <td>24.204822</td>\n",
       "      <td>-42.832334</td>\n",
       "    </tr>\n",
       "  </tbody>\n",
       "</table>\n",
       "</div>"
      ],
      "text/plain": [
       "         x1       x2  y  x1_squared  x2_squared      x1_x2\n",
       "0  8.660254 -5.00000  0   75.000000   25.000000 -43.301270\n",
       "1  8.671793 -4.97996  0   75.199999   24.800001 -43.185183\n",
       "2  8.683271 -4.95992  0   75.399195   24.600805 -43.068328\n",
       "3  8.694687 -4.93988  0   75.597588   24.402412 -42.950710\n",
       "4  8.706043 -4.91984  0   75.795178   24.204822 -42.832334"
      ]
     },
     "execution_count": 9,
     "metadata": {},
     "output_type": "execute_result"
    }
   ],
   "source": [
    "df.head(5)"
   ]
  },
  {
   "cell_type": "code",
   "execution_count": 10,
   "metadata": {},
   "outputs": [],
   "source": [
    "X=df.iloc[:,[0,1,3,4,5]]\n",
    "y=df.iloc[:,2]"
   ]
  },
  {
   "cell_type": "code",
   "execution_count": 11,
   "metadata": {},
   "outputs": [],
   "source": [
    "X_train,X_test,y_train,y_test=train_test_split(X,y,test_size=0.3,random_state=0)\n"
   ]
  },
  {
   "cell_type": "code",
   "execution_count": 12,
   "metadata": {},
   "outputs": [
    {
     "data": {
      "application/vnd.plotly.v1+json": {
       "config": {
        "plotlyServerURL": "https://plot.ly"
       },
       "data": [
        {
         "hovertemplate": "x1=%{x}<br>x2=%{y}<br>x1_x2=%{z}<br>y=%{marker.color}<extra></extra>",
         "legendgroup": "",
         "marker": {
          "color": {
           "bdata": "AAAAAAAAAAAAAAAAAAAAAAAAAAAAAAAAAAAAAAAAAAAAAAAAAAAAAAAAAAAAAAAAAAAAAAAAAAAAAAAAAAAAAAAAAAAAAAAAAAAAAAAAAAAAAAAAAAAAAAAAAAAAAAAAAAAAAAAAAAAAAAAAAAAAAAAAAAAAAAAAAAAAAAAAAAAAAAAAAAAAAAAAAAAAAAAAAAAAAAAAAAAAAAAAAAAAAAAAAAAAAAAAAAAAAAAAAAAAAAAAAAAAAAAAAAAAAAAAAAAAAAAAAAAAAAAAAAAAAAAAAAAAAAAAAAAAAAAAAAAAAAAAAAAAAAAAAAAAAAAAAAAAAAAAAAAAAAAAAAAAAAAAAAAAAAAAAAAAAAAAAAAAAAAAAAAAAAAAAAAAAAAAAAAAAAAAAAAAAAAAAAAAAAAAAAAAAAAAAAAAAAAAAAAAAAAAAAAAAAAAAAAAAAAAAAAAAAAAAAAAAAAAAAAAAAAAAAAAAAAAAAAAAAAAAAAAAAAAAAAAAAAAAAAAAAAAAAAAAAAAAAAAAAAAAAAAAAAAAAAAAAAAAAAAAAAAAAAAAAAAAAAAAAAAAAAAAAAAAAAAAAAAAAAAAAAAAAAAAAAAAAAAAAAAAAAAAAAAAAAAAAAAAAAAAAAAAAAAAAAAAAAAAAAAAAAAAAAAAAAAAAAAAAAAAAAAAAAAAAAAAAAAAAAAAAAAAAAAAAAAAAAAAAAAAAAAAAAAAAAAAAAAAAAAAAAAAAAAAAAAAAAAAAAAAAAAAAAAAAAAAAAAAAAAAAAAAAAAAAAAAAAAAAAAAAAAAAAAAAAAAAAAAAAAAAAAAAAAAAAAAAAAAAAAAAAAAAAAAAAAAAAAAAAAAAAAAAAAAAAAAAAAAAAAAAAAAAAAAAAAAAAAAAAAAAAAAAAAAAAAAAAAAAAAAAAAAAAAAAAAAAAAAAAAAAAAAAAAAAAAAAAAAAAAAAAAAAAAAAAAAAAAAAAAAAAAAAAAAAAAAAAAAAAAAAAAAAAAAAAAAAAAAAAAAAAAAAAAAAAAAAAAAAAAAAAAAAAAAAAAAAAAAAAAAAAAAAAAAAAAAAAAAAAAAAAAAAAAAAAAAAAAAAAAAAAAAAAAAAAAAAAAAAAAAAAAAAAAAAAAAAAAAAAAAAAAAAAAAAAAAAAAAAAAAAAAAAAAAAAAAAAAAAAAAAAAAAAAAAAAAAAAAAAAAAAAAAAAAAAAAAAAAAAAAAAAAAAAAAAAAAAAAAAAAAAAAAAAAAAAAAAAAAAAAAAAAAAAAAAAAAAAAAAAAAAAAAAAAAAAAAAAAAAAAAAAAAAAAAAAAAAAAAAAAAAAAAAAAAAAAAAAAAAAAAAAAAEBAQEBAQEBAQEBAQEBAQEBAQEBAQEBAQEBAQEBAQEBAQEBAQEBAQEBAQEBAQEBAQEBAQEBAQEBAQEBAQEBAQEBAQEBAQEBAQEBAQEBAQEBAQEBAQEBAQEBAQEBAQEBAQEBAQEBAQEBAQEBAQEBAQEBAQEBAQEBAQEBAQEBAQEBAQEBAQEBAQEBAQEBAQEBAQEBAQEBAQEBAQEBAQEBAQEBAQEBAQEBAQEBAQEBAQEBAQEBAQEBAQEBAQEBAQEBAQEBAQEBAQEBAQEBAQEBAQEBAQEBAQEBAQEBAQEBAQEBAQEBAQEBAQEBAQEBAQEBAQEBAQEBAQEBAQEBAQEBAQEBAQEBAQEBAQEBAQEBAQEBAQEBAQEBAQEBAQEBAQEBAQEBAQEBAQEBAQEBAQEBAQEBAQEBAQEBAQEBAQEBAQEBAQEBAQEBAQEBAQEBAQEBAQEBAQEBAQEBAQEBAQEBAQEBAQEBAQEBAQEBAQEBAQEBAQEBAQEBAQEBAQEBAQEBAQEBAQEBAQEBAQEBAQEBAQEBAQEBAQEBAQEBAQEBAQEBAQEBAQEBAQEBAQEBAQEBAQEBAQEBAQEBAQEBAQEBAQEBAQEBAQEBAQEBAQEBAQEBAQEBAQEBAQEBAQEBAQEBAQEBAQEBAQEBAQEBAQEBAQEBAQEBAQEBAQEBAQEBAQEBAQEBAQEBAQEBAQEBAQEBAQEBAQEBAQEBAQEBAQEBAQEBAQEBAQEBAQEBAQEBAQEBAQEBAQEBAQEBAQEBAQEBAQEBAQEBAQEBAQEBAQEBAQEBAQEBAQEBAQEBAQEBAQEBAQEBAQEBAQEBAQEBAQEBAQEBAQEBAQEBAQEBAQEBAQEBAQEBAQEBAQEBAQEBAQEBAQEBAQEBAQEBAQEBAQEBAQEBAQEBAQEBAQEBAQEBAQEBAQEBAQEBAQEBAQEBAQEBAQEBAQEBAQEBAQEBAQEBAQEBAQEBAQEBAQEBAQEBAQEBAQEBAQEBAQEBAQEBAQEBAQEBAQEBAQEBAQEBAQEBAQEBAQEBAQEBAQEBAQEBAQEBAQEBAQEBAQEBAQEBAQEBAQEBAQEBAQEBAQEBAQEBAQEBAQEBAQEBAQEBAQEBAQEBAQEBAQEBAQEBAQEBAQEBAQEBAQEBAQEBAQEBAQEBAQEBAQEBAQEBAQEBAQEBAQEBAQEBAQEBAQEBAQEBAQEBAQEBAQEBAQEBAQEBAQEBAQEBAQEBAQEBAQEBAQEBAQEBAQEBAQEBAQEBAQEBAQEBAQEBAQEBAQEBAQEBAQEBAQEBAQEBAQEBAQEBAQEBAQEBAQEBAQEBAQEBAQEBAQEBAQEBAQEBAQE=",
           "dtype": "i1"
          },
          "coloraxis": "coloraxis",
          "symbol": "circle"
         },
         "mode": "markers",
         "name": "",
         "scene": "scene",
         "showlegend": false,
         "type": "scatter3d",
         "x": {
          "bdata": "6y830QxSIUDaBulK9VchQO5FKbLVXSFAm+4mD65jIUBi2vppfmkhQD8FqMpGbyFAvNYbOQd1IUDFaS69v3ohQC3Tol5wgCFABGcnJRmGIUCr/FUYuoshQMcxtD9TkSFA/6uzouSWIUCfWbJIbpwhQCGx+jjwoSFAlu/DemqnIUAKVjIV3awhQNNlVw9IsiFA4hsycKu3IUAPK68+B70hQGo1qYFbwiFAnQTpP6jHIUBQwSWA7cwhQK0pBUkr0iFA9MYboWHXIUA2Iu2OkNwhQCD46xi44SFAAmx6RdjmIUDtOeoa8eshQAzofJ8C8SFAJvdj2Qz2IUBgEsHOD/shQDA+poULACJAlwYWBAAFIkCSrANQ7QkiQNpSU2/TDiJA6ynaZ7ITIkBQm14/ihgiQE10mPtaHSJAyw8xoiQiIkCqf8M45yYiQGC13MSiKyJAAKr7S1cwIkCVhZHTBDUiQOrFAWGrOSJAsGSi+Uo+IkAR/bui40IiQKrwiWF1RyJA+Ys6OwBMIkAzKu80hFAiQJVYvFMBVSJAJPmpnHdZIkDtZLMU510iQLONx8BPYiJAKR/JpbFmIkCgn47IDGsiQDiQ4i1hbyJAm4yD2q5zIkA2aiTT9XciQAFXbBw2fCJAxvf2um+AIkAFhlSzooQiQFjtCQrPiCJAaeiQw/SMIkCBHVjkE5EiQKU6w3AslSJASRErbT6ZIkCdsd3dSZ0iQHCFHsdOoSJAsWomLU2lIkCOzSMURakiQCnCOoA2rSJA9h2FdSGxIkC3kBL4BbUiQBu96AvkuCJABFEDtbu8IkBrHVT3jMAiQPctw9ZXxCJAN+AuVxzIIkCE+mt82ssiQJPCRUqSzyJAtxN+xEPTIkDFdM3u7tYiQLgt48yT2iJA+FxlYjLeIkBgDPGyyuEiQOpFGsJc5SJAHChsk+joIkAi+mgqbuwiQKU/iort7yJAV8xAt2bzIkA41/Sz2fYiQJkNBoRG+iJA1KXLKq39IkDHcZSrDQEjQAzxpgloBCNA6GJBSLwHI0AD2JlqCgsjQNtD3nNSDiNA+Y00Z5QRI0DrorpH0BQjQACFhhgGGCNAwlym3DUbI0BEiSCXXx4jQCKw80qDISNAXM0W+6AkI0DpQnmquCcjQBnoAlzKKiNAwhiUEtYtI0AyxAXR2zAjQPB7KZrbMyNARYLJcNU2I0CV2KhXyTkjQINNg1G3PCNA4YoNYZ8/I0BxI/WIgUIjQHag4MtdRSNAEY9vLDRII0BwjTqtBEsjQNFX01DPTSNAVdXEGZRQI0CfJJMKU1MjQFGouyUMViNAWBO1bb9YI0AIde/kbFsjQBBF1I0UXiNAR2/GarZgI0BJXyJ+UmMjQO0LPsroZSNAkwJpUXloI0BJcuwVBGsjQMM2CxqJbSNAN+MBYAhwI0AFzQbqgXIjQEEWSrr1dCNAF7j10mN3I0AEjS02zHkjQO1aD+YufCNAFt2y5It+I0DpzSk044AjQKvwf9Y0gyNA+xq7zYCFI0A6Ptsbx4cjQNBw2sIHiiNASPesxEKMI0BVTUEjeI4jQKgugOCnkCNAtZ9M/tGSI0BM9oN+9pQjQBXi/WIVlyNA8HSMrS6ZI0AwK/xfQpsjQLzzE3xQnSNADziVA1mfI0Aa5Dv4W6EjQAhuvltZoyNA5t3NL1GlI0Aq1RV2Q6cjQCOWPDAwqSNASAvjXxerI0BqzqQG+awjQM0vGCbVriNAJj3Ov6uwI0B6yFLVfLIjQOJuLGhItCNAOZ/ceQ62I0CsoN8Lz7cjQCyZrB+KuSNA0JO1tj+7I0ATh2fS77wjQP5aKnSaviNAOO9gnT/AI0D8IGlP38EjQPbQm4t5wyNADOlMUw7FI0AFYsunncYjQCJJYYonyCNAm8VT/KvJI0ACHuP+KssjQJS9SpOkzCNAbjnBuhjOI0CtVXh2h88jQHgKncfw0CNA8ohXr1TSI0AUQMsus9MjQHfhFkcM1SNAAmZU+V/WI0CDEplGrtcjQDR89S/32CNAK411tjraI0CyiCDbeNsjQI0P+Z6x3CNAKCT9AuXdI0C0LiYIE98jQCoBaa874CNAQNu1+V7hI0BBbvjnfOIjQN3gF3uV4yNA2NL2s6jkI0CvYHOTtuUjQCAnZxq/5iNArEanScLnI0D0ZgQiwOgjQBO6SqS46SNA1/9B0avqI0D0iK2pmesjQBc6TC6C7CNA8o7YX2XtI0AqnQg/Q+4jQD0Xjswb7yNATE8WCe/vI0DbOUr1vPAjQHZwzpGF8SNATTRD30jyI0C0cETeBvMjQJy9aY+/8yNA7WFG83L0I0DbVWkKIfUjQB9FXdXJ9SNAJpGoVG32I0ApU82IC/cjQDReSXKk9yNAIUGWETj4I0B4SClnxvgjQEeAc3NP+SNA47XhNtP5I0CZedyxUfojQFMgyOTK+iNAHMUE0D77I0CtSu5zrfsjQM1c3NAW/CNAtXEi53r8I0Bayw+32fwjQKR470Az/SNAm1YIhYf9I0B/EZ2D1v0jQM8l7Dwg/iNAROEvsWT+I0CzY57go/4jQOafacvd/iNAYVy/cRL/I0AWNMnTQf8jQAyXrPFr/yNA8MqKy5D/I0Cc64BhsP8jQIbrp7PK/yNAJJQUwt//I0BBhteM7/8jQDo6/RP6/yNAMQCOV///I0AxAI5X//8jQDo6/RP6/yNAQYbXjO//I0AklBTC3/8jQIbrp7PK/yNAnOuAYbD/I0DwyorLkP8jQAyXrPFr/yNAFjTJ00H/I0BhXL9xEv8jQOafacvd/iNAs2Oe4KP+I0BE4S+xZP4jQM8l7Dwg/iNAfxGdg9b9I0CbVgiFh/0jQKR470Az/SNAWssPt9n8I0C1cSLnevwjQM1c3NAW/CNArUruc637I0AcxQTQPvsjQFMgyOTK+iNAmXncsVH6I0DjteE20/kjQEeAc3NP+SNAeEgpZ8b4I0AhQZYROPgjQDReSXKk9yNAKVPNiAv3I0AmkahUbfYjQB9FXdXJ9SNA21VpCiH1I0DtYUbzcvQjQJy9aY+/8yNAtXBE3gbzI0BNNEPfSPIjQHZwzpGF8SNA2zlK9bzwI0BMTxYJ7+8jQD0Xjswb7yNAKp0IP0PuI0DyjthfZe0jQBc6TC6C7CNA9IitqZnrI0DX/0HRq+ojQBO6SqS46SNA9GYEIsDoI0CsRqdJwucjQCAnZxq/5iNAr2Bzk7blI0DY0vazqOQjQN3gF3uV4yNAQW7453ziI0BA27X5XuEjQCoBaa874CNAtC4mCBPfI0AoJP0C5d0jQI0P+Z6x3CNAsogg23jbI0ArjXW2OtojQDR89S/32CNAgxKZRq7XI0ACZlT5X9YjQHfhFkcM1SNAFEDLLrPTI0DyiFevVNIjQHkKncfw0CNArVV4dofPI0BuOcG6GM4jQJS9SpOkzCNAAh7j/irLI0CbxVP8q8kjQCJJYYonyCNABWLLp53GI0AM6UxTDsUjQPbQm4t5wyNA/CBpT9/BI0A472CdP8AjQP5aKnSaviNAE4dn0u+8I0DQk7W2P7sjQCyZrB+KuSNArKDfC8+3I0A5n9x5DrYjQOJuLGhItCNAeshS1XyyI0AmPc6/q7AjQM0vGCbVriNAas6kBvmsI0BIC+NfF6sjQCOWPDAwqSNAKtUVdkOnI0Dm3c0vUaUjQAhuvltZoyNAGuQ7+FuhI0APOJUDWZ8jQLzzE3xQnSNAMCv8X0KbI0DwdIytLpkjQBXi/WIVlyNATPaDfvaUI0C1n0z+0ZIjQKgugOCnkCNAVU1BI3iOI0BI96zEQowjQNBw2sIHiiNAOj7bG8eHI0D7GrvNgIUjQKvwf9Y0gyNA6c0pNOOAI0AW3bLki34jQO1aD+YufCNABI0tNsx5I0AXuPXSY3cjQEEWSrr1dCNABc0G6oFyI0A34wFgCHAjQMM2CxqJbSNASXLsFQRrI0CTAmlReWgjQO0LPsroZSNASV8iflJjI0BHb8ZqtmAjQBBF1I0UXiNACHXv5GxbI0BYE7Vtv1gjQFGouyUMViNAnySTClNTI0BV1cQZlFAjQNJX01DPTSNAcI06rQRLI0ARj28sNEgjQHag4MtdRSNAcSP1iIFCI0Dhig1hnz8jQINNg1G3PCNAldioV8k5I0BFgslw1TYjQPB7KZrbMyNAMsQF0dswI0DCGJQS1i0jQBnoAlzKKiNA6UJ5qrgnI0BczRb7oCQjQCKw80qDISNARIkgl18eI0DCXKbcNRsjQACFhhgGGCNA66K6R9AUI0D5jTRnlBEjQNtD3nNSDiNAA9iZagoLI0DoYkFIvAcjQAzxpgloBCNAx3GUqw0BI0DUpcsqrf0iQJkNBoRG+iJAOdf0s9n2IkBXzEC3ZvMiQKU/iort7yJAIvpoKm7sIkAcKGyT6OgiQOpFGsJc5SJAYAzxssrhIkD5XGViMt4iQLgt48yT2iJAxXTN7u7WIkC3E37EQ9MiQJPCRUqSzyJAg/prfNrLIkA34C5XHMgiQPctw9ZXxCJAax1U94zAIkAEUQO1u7wiQBu96AvkuCJAt5AS+AW1IkD2HYV1IbEiQCnCOoA2rSJAjs0jFEWpIkCxaiYtTaUiQHCFHsdOoSJAnbHd3UmdIkBJESttPpkiQKU6w3AslSJAgR1Y5BORIkBp6JDD9IwiQFjtCQrPiCJABoZUs6KEIkDG9/a6b4AiQAFXbBw2fCJANmok0/V3IkCbjIParnMiQDmQ4i1hbyJAoJ+OyAxrIkAqH8mlsWYiQLONx8BPYiJA7WSzFOddIkAk+amcd1kiQJVYvFMBVSJAMyrvNIRQIkD5izo7AEwiQKrwiWF1RyJAEf27ouNCIkCwZKL5Sj4iQOrFAWGrOSJAlYWR0wQ1IkAAqvtLVzAiQGG13MSiKyJAqn/DOOcmIkDMDzGiJCIiQE10mPtaHSJAUJteP4oYIkDrKdpnshMiQNpSU2/TDiJAk6wDUO0JIkCYBhYEAAUiQDE+poULACJAYBLBzg/7IUAm92PZDPYhQAzofJ8C8SFA7TnqGvHrIUADbHpF2OYhQCH46xi44SFANiLtjpDcIUD1xhuhYdchQK0pBUkr0iFAUMElgO3MIUCdBOk/qMchQGo1qYFbwiFADyuvPge9IUDjGzJwq7chQNNlVw9IsiFAClYyFd2sIUCW78N6aqchQCGx+jjwoSFAn1mySG6cIUD/q7Oi5JYhQMcxtD9TkSFArPxVGLqLIUAEZyclGYYhQC3Tol5wgCFAxWkuvb96IUC81hs5B3UhQD8FqMpGbyFAY9r6aX5pIUCc7iYPrmMhQO9FKbLVXSFA2gbpSvVXIUDrLzfRDFIhQOsvN9EMUiHA2gbpSvVXIcDuRSmy1V0hwJvuJg+uYyHAYtr6aX5pIcA/BajKRm8hwLzWGzkHdSHAxWkuvb96IcAt06JecIAhwARnJyUZhiHAq/xVGLqLIcDHMbQ/U5EhwP+rs6LkliHAn1mySG6cIcAhsfo48KEhwJbvw3pqpyHAClYyFd2sIcDTZVcPSLIhwOIbMnCrtyHADyuvPge9IcBqNamBW8IhwJ0E6T+oxyHAUMElgO3MIcCtKQVJK9IhwPTGG6Fh1yHANiLtjpDcIcAg+OsYuOEhwAJsekXY5iHA7TnqGvHrIcAM6HyfAvEhwCb3Y9kM9iHAYBLBzg/7IcAwPqaFCwAiwJcGFgQABSLAkqwDUO0JIsDaUlNv0w4iwOsp2meyEyLAUJteP4oYIsBNdJj7Wh0iwMsPMaIkIiLAqn/DOOcmIsBgtdzEoisiwACq+0tXMCLAlYWR0wQ1IsDqxQFhqzkiwLBkovlKPiLAEf27ouNCIsCq8IlhdUciwPmLOjsATCLAMyrvNIRQIsCVWLxTAVUiwCT5qZx3WSLA7WSzFOddIsCzjcfAT2IiwCkfyaWxZiLAoJ+OyAxrIsA4kOItYW8iwJuMg9qucyLANmok0/V3IsABV2wcNnwiwMb39rpvgCLABYZUs6KEIsBY7QkKz4giwGnokMP0jCLAgR1Y5BORIsClOsNwLJUiwEkRK20+mSLAnbHd3UmdIsBwhR7HTqEiwLFqJi1NpSLAjs0jFEWpIsApwjqANq0iwPYdhXUhsSLAt5AS+AW1IsAbvegL5LgiwARRA7W7vCLAax1U94zAIsD3LcPWV8QiwDfgLlccyCLAhPprfNrLIsCTwkVKks8iwLcTfsRD0yLAxXTN7u7WIsC4LePMk9oiwPhcZWIy3iLAYAzxssrhIsDqRRrCXOUiwBwobJPo6CLAIvpoKm7sIsClP4qK7e8iwFfMQLdm8yLAONf0s9n2IsCZDQaERvoiwNSlyyqt/SLAx3GUqw0BI8AM8aYJaAQjwOhiQUi8ByPAA9iZagoLI8DbQ95zUg4jwPmNNGeUESPA66K6R9AUI8AAhYYYBhgjwMJcptw1GyPARIkgl18eI8AisPNKgyEjwFzNFvugJCPA6UJ5qrgnI8AZ6AJcyiojwMIYlBLWLSPAMsQF0dswI8Dweyma2zMjwEWCyXDVNiPAldioV8k5I8CDTYNRtzwjwOGKDWGfPyPAcSP1iIFCI8B2oODLXUUjwBGPbyw0SCPAcI06rQRLI8DRV9NQz00jwFXVxBmUUCPAnySTClNTI8BRqLslDFYjwFgTtW2/WCPACHXv5GxbI8AQRdSNFF4jwEdvxmq2YCPASV8iflJjI8DtCz7K6GUjwJMCaVF5aCPASXLsFQRrI8DDNgsaiW0jwDfjAWAIcCPABc0G6oFyI8BBFkq69XQjwBe49dJjdyPABI0tNsx5I8DtWg/mLnwjwBbdsuSLfiPA6c0pNOOAI8Cr8H/WNIMjwPsau82AhSPAOj7bG8eHI8DQcNrCB4ojwEj3rMRCjCPAVU1BI3iOI8CoLoDgp5AjwLWfTP7RkiPATPaDfvaUI8AV4v1iFZcjwPB0jK0umSPAMCv8X0KbI8C88xN8UJ0jwA84lQNZnyPAGuQ7+FuhI8AIbr5bWaMjwObdzS9RpSPAKtUVdkOnI8AjljwwMKkjwEgL418XqyPAas6kBvmsI8DNLxgm1a4jwCY9zr+rsCPAeshS1XyyI8DibixoSLQjwDmf3HkOtiPArKDfC8+3I8AsmawfirkjwNCTtbY/uyPAE4dn0u+8I8D+Wip0mr4jwDjvYJ0/wCPA/CBpT9/BI8D20JuLecMjwAzpTFMOxSPABWLLp53GI8AiSWGKJ8gjwJvFU/yrySPAAh7j/irLI8CUvUqTpMwjwG45wboYziPArVV4dofPI8B4Cp3H8NAjwPKIV69U0iPAFEDLLrPTI8B34RZHDNUjwAJmVPlf1iPAgxKZRq7XI8A0fPUv99gjwCuNdbY62iPAsogg23jbI8CND/mesdwjwCgk/QLl3SPAtC4mCBPfI8AqAWmvO+AjwEDbtfle4SPAQW7453ziI8Dd4Bd7leMjwNjS9rOo5CPAr2Bzk7blI8AgJ2cav+YjwKxGp0nC5yPA9GYEIsDoI8ATukqkuOkjwNf/QdGr6iPA9IitqZnrI8AXOkwuguwjwPKO2F9l7SPAKp0IP0PuI8A9F47MG+8jwExPFgnv7yPA2zlK9bzwI8B2cM6RhfEjwE00Q99I8iPAtHBE3gbzI8CcvWmPv/MjwO1hRvNy9CPA21VpCiH1I8AfRV3VyfUjwCaRqFRt9iPAKVPNiAv3I8A0XklypPcjwCFBlhE4+CPAeEgpZ8b4I8BHgHNzT/kjwOO14TbT+SPAmXncsVH6I8BTIMjkyvojwBzFBNA++yPArUruc637I8DNXNzQFvwjwLVxIud6/CPAWssPt9n8I8CkeO9AM/0jwJtWCIWH/SPAfxGdg9b9I8DPJew8IP4jwEThL7Fk/iPAs2Oe4KP+I8Dmn2nL3f4jwGFcv3ES/yPAFjTJ00H/I8AMl6zxa/8jwPDKisuQ/yPAnOuAYbD/I8CG66ezyv8jwCSUFMLf/yPAQYbXjO//I8A6Ov0T+v8jwDEAjlf//yPAMQCOV///I8A6Ov0T+v8jwEGG14zv/yPAJJQUwt//I8CG66ezyv8jwJzrgGGw/yPA8MqKy5D/I8AMl6zxa/8jwBY0ydNB/yPAYVy/cRL/I8Dmn2nL3f4jwLNjnuCj/iPAROEvsWT+I8DPJew8IP4jwH8RnYPW/SPAm1YIhYf9I8CkeO9AM/0jwFrLD7fZ/CPAtXEi53r8I8DNXNzQFvwjwK1K7nOt+yPAHMUE0D77I8BTIMjkyvojwJl53LFR+iPA47XhNtP5I8BHgHNzT/kjwHhIKWfG+CPAIUGWETj4I8A0XklypPcjwClTzYgL9yPAJpGoVG32I8AfRV3VyfUjwNtVaQoh9SPA7WFG83L0I8CcvWmPv/MjwLVwRN4G8yPATTRD30jyI8B2cM6RhfEjwNs5SvW88CPATE8WCe/vI8A9F47MG+8jwCqdCD9D7iPA8o7YX2XtI8AXOkwuguwjwPSIramZ6yPA1/9B0avqI8ATukqkuOkjwPRmBCLA6CPArEanScLnI8AgJ2cav+YjwK9gc5O25SPA2NL2s6jkI8Dd4Bd7leMjwEFu+Od84iPAQNu1+V7hI8AqAWmvO+AjwLQuJggT3yPAKCT9AuXdI8CND/mesdwjwLKIINt42yPAK411tjraI8A0fPUv99gjwIMSmUau1yPAAmZU+V/WI8B34RZHDNUjwBRAyy6z0yPA8ohXr1TSI8B5Cp3H8NAjwK1VeHaHzyPAbjnBuhjOI8CUvUqTpMwjwAIe4/4qyyPAm8VT/KvJI8AiSWGKJ8gjwAViy6edxiPADOlMUw7FI8D20JuLecMjwPwgaU/fwSPAOO9gnT/AI8D+Wip0mr4jwBOHZ9LvvCPA0JO1tj+7I8AsmawfirkjwKyg3wvPtyPAOZ/ceQ62I8DibixoSLQjwHrIUtV8siPAJj3Ov6uwI8DNLxgm1a4jwGrOpAb5rCPASAvjXxerI8AjljwwMKkjwCrVFXZDpyPA5t3NL1GlI8AIbr5bWaMjwBrkO/hboSPADziVA1mfI8C88xN8UJ0jwDAr/F9CmyPA8HSMrS6ZI8AV4v1iFZcjwEz2g372lCPAtZ9M/tGSI8CoLoDgp5AjwFVNQSN4jiPASPesxEKMI8DQcNrCB4ojwDo+2xvHhyPA+xq7zYCFI8Cr8H/WNIMjwOnNKTTjgCPAFt2y5It+I8DtWg/mLnwjwASNLTbMeSPAF7j10mN3I8BBFkq69XQjwAXNBuqBciPAN+MBYAhwI8DDNgsaiW0jwEly7BUEayPAkwJpUXloI8DtCz7K6GUjwElfIn5SYyPAR2/GarZgI8AQRdSNFF4jwAh17+RsWyPAWBO1bb9YI8BRqLslDFYjwJ8kkwpTUyPAVdXEGZRQI8DSV9NQz00jwHCNOq0ESyPAEY9vLDRII8B2oODLXUUjwHEj9YiBQiPA4YoNYZ8/I8CDTYNRtzwjwJXYqFfJOSPARYLJcNU2I8Dweyma2zMjwDLEBdHbMCPAwhiUEtYtI8AZ6AJcyiojwOlCeaq4JyPAXM0W+6AkI8AisPNKgyEjwESJIJdfHiPAwlym3DUbI8AAhYYYBhgjwOuiukfQFCPA+Y00Z5QRI8DbQ95zUg4jwAPYmWoKCyPA6GJBSLwHI8AM8aYJaAQjwMdxlKsNASPA1KXLKq39IsCZDQaERvoiwDnX9LPZ9iLAV8xAt2bzIsClP4qK7e8iwCL6aCpu7CLAHChsk+joIsDqRRrCXOUiwGAM8bLK4SLA+VxlYjLeIsC4LePMk9oiwMV0ze7u1iLAtxN+xEPTIsCTwkVKks8iwIP6a3zayyLAN+AuVxzIIsD3LcPWV8QiwGsdVPeMwCLABFEDtbu8IsAbvegL5LgiwLeQEvgFtSLA9h2FdSGxIsApwjqANq0iwI7NIxRFqSLAsWomLU2lIsBwhR7HTqEiwJ2x3d1JnSLASRErbT6ZIsClOsNwLJUiwIEdWOQTkSLAaeiQw/SMIsBY7QkKz4giwAaGVLOihCLAxvf2um+AIsABV2wcNnwiwDZqJNP1dyLAm4yD2q5zIsA5kOItYW8iwKCfjsgMayLAKh/JpbFmIsCzjcfAT2IiwO1ksxTnXSLAJPmpnHdZIsCVWLxTAVUiwDMq7zSEUCLA+Ys6OwBMIsCq8IlhdUciwBH9u6LjQiLAsGSi+Uo+IsDqxQFhqzkiwJWFkdMENSLAAKr7S1cwIsBhtdzEoisiwKp/wzjnJiLAzA8xoiQiIsBNdJj7Wh0iwFCbXj+KGCLA6ynaZ7ITIsDaUlNv0w4iwJOsA1DtCSLAmAYWBAAFIsAxPqaFCwAiwGASwc4P+yHAJvdj2Qz2IcAM6HyfAvEhwO056hrx6yHAA2x6RdjmIcAh+OsYuOEhwDYi7Y6Q3CHA9cYboWHXIcCtKQVJK9IhwFDBJYDtzCHAnQTpP6jHIcBqNamBW8IhwA8rrz4HvSHA4xsycKu3IcDTZVcPSLIhwApWMhXdrCHAlu/DemqnIcAhsfo48KEhwJ9ZskhunCHA/6uzouSWIcDHMbQ/U5EhwKz8VRi6iyHABGcnJRmGIcAt06JecIAhwMVpLr2/eiHAvNYbOQd1IcA/BajKRm8hwGPa+ml+aSHAnO4mD65jIcDvRSmy1V0hwNoG6Ur1VyHA6y830QxSIcAAAAAAAAAAAC4EgwEin9w/TiQ3X9w35D/OWrR5urzoP6Y2T6IHiew/14YyhwTf7z9RqSxDWnDxPxJgt64o0fI/8gid+YUY9D9FXM4UCEv1P+Tp9o8GbPY/06S/6Qd+9z8mwqLeAoP4P1r+IpuHfPk/HGPu4dpr+j/3uD2YCFL7P8N6hdXwL/w/4hlkU1EG/T/LRWFmzNX9P3M1Hz7unv4/WlcW6zBi/z+vt7G//w8AQNkB/UJcbABAB8wY/VfGAEDXcvJuGB4BQPRIH0K/cwFAH1LO0GrHAUCsc3GWNhkCQGgQ0Y07aQJA4x0ogJC3AkB45hhISgQDQB/krwp8TwNAXII0aDeZA0DIVS2mjOEDQBR0t9OKKARAjwMa6T9uBEB2IVTjuLIEQL0qQdwB9gRAZzzUHyY4BUCw3tU+MHkFQJ4bfR8quQVAINouDB34BUBujqLAETYGQHeeoXUQcwZAydWO6yCvBkC3nNxzSuoGQI4Yk/mTJAdAnrMCCQReB0BWobvWoJYHQICk30VwzgdAVo/g7XcFCED9krsfvTsIQNlpv+pEcQhATqrpIBSmCEAAD+ZaL9oIQCQ3ufuaDQlAmEMfNFtACUBivaUFdHIJQPJah0XpowlAun1Pn77UCUChnUqX9wQKQIFIyIyXNApAXN0yvKFjCkCdvABBGZIKQJJEghcBwApAKJuPHlztCkBw+RgZLRoLQKnpm692RgtASax/cTtyC0DswlrWfZ0LQBVwIz9AyAtAENBM94TyC0ALCdI1ThwMQPvtMB6eRQxAaFFVwXZuDEBNKXYe2pYMQHSM5SPKvgxALHvUr0jmDEDbUAuRVw0NQMmpl4f4Mw1AlndwRS1aDUD/7xBv938NQLTzCpxYpQ1AuH6RV1LKDUBXqPsg5u4NQG2uQGwVEw5AeX5touE2DkAYJhQiTFoOQPeMtT9WfQ5A1NIlRgGgDkDFpet2TsIOQOHemgo/5A5AwK0qMdQFD0BZlkcSDycPQACAoc3wRw9A+A82e3poD0ADhpcrrYgPQNlNMOiJqA9A5XSDsxHID0CMMGqJRecPQDxPpy8TAxBAy/IxkloSEEAH7u1geSEQQBIqjQ1wMBBA7hfzBj8/EECZLEy55k0QQH9dJI5nXBBAVqp87MFqEEDUwN849ngQQM/FddUEhxBAwk4XIu6UEEDtlV98sqIQQNzyvT9SsBBAWaCGxc29EEB72AJlJcsQQOlOgHNZ2BBA8hBgRGrlEEDL0iQpWPIQQLSwgHEj/xBAhmpia8wLEUDIHwJjUxgRQBCS7aK4JBFAHvMTdPwwEUAARNEdHz0RQPtJ+eUgSRFAFB7iEAJVEUBrW27hwmARQNPwFpljbBFAbpn0d+R3EUAzAMm8RYMRQOSRB6WHjhFA6ADebKqZEUA6fjxPrqQRQIqq3YWTrxFAeUJOSVq6EUC9iPTQAsURQNZwF1ONzxFA24zlBPrZEUC7wHsaSeQRQFm968Z67hFAm0VCPI/4EUCHP42rhgISQHqT4URhDBJAU9tgNx8WEkBi4z6xwB8SQN3+xt9FKRJAhTFh764yEkAFMJcL/DsSQJw4GV8tRRJAesXCE0NOEkA2Gp9SPVcSQLOt7UMcYBJAs3EmD+BoEkBR+f3aiHESQIx/ac0WehJAAc+iC4qCEkDfCyy64ooSQCJh0/wgkxJACpK29kSbEkDDcEbKTqMSQCA7Spk+qxJAR97ihBSzEkApIo6t0LoSQIS9KTNzwhJAP1P2NPzJEkDcWZrRa9ESQKHtJCfC2BJARo4QU//fEkCryEVyI+cSQFPNHaEu7hJAK/Rk+yD1EkA5Ll2c+vsSQL9lwJ67AhNAW83CHGQJE0CpHhUw9A8TQN/I5vFrFhNA6A/oesscE0BnHEzjEiMTQBj9ykJCKRNAApqjsFkvE0DXmZ1DWTUTQOg5CxJBOxNAHhnLMRFBE0A79km4yUYTQNZhhLpqTBNAVGQITfRRE0BDGPeDZlcTQF85BnPBXBNAhqiBLQViE0D65EzGMWcTQCd75E9HbBNAPWlf3EVxE0DXeXB9LXYTQAOVZ0T+ehNAyAczQrh/E0CNwmCHW4QTQIGOHyToiBNAOzpAKF6NE0DcvTajvZETQNJWG6QGlhNAfJurOTmaE0DThktyVZ4TQFZ8BlxbohNAUUSQBEumE0DEAEZ5JKoTQP0aL8fnrRNAFir++pSxE0CC0hEhLLUTQMqedUWtuBNAmNHicxi8E0BAMcG3bb8TQNzMJxytwhNAI7vdq9bFE0AW01px6sgTQJ9eyHboyxNARscBxtDOE0ARPZVoo9ETQKlXxGdg1BNA4LGEzAfXE0C2f4CfmdkTQOUeF+kV3BNAF6JdsXzeE0DhVh8AzuATQIFG3twJ4xNAiLHTTjDlE0B9hvBcQecTQIfT3Q096RNAMDP9ZyPrE0BYNGlx9OwTQFy99S+w7hNAkWowqVbwE0AJ6GDi5/ETQMtGieBj8xNAcU1mqMr0E0BLxG8+HPYTQAy92KZY9xNAANaP5X/4E0DteD/+kfkTQI4VTvSO+hNAylfeynb7E0CTWc+ESfwTQJLQvCQH/RNAizf/rK/9E0CX86sfQ/4TQCR1lX7B/hNA1FRLyyr/E0ApbBoHf/8TQB3qDDO+/xNAi2PqT+j/E0CE3zde/f8TQITfN179/xNAi2PqT+j/E0Ad6gwzvv8TQClsGgd//xNA1FRLyyr/E0AkdZV+wf4TQJfzqx9D/hNAizf/rK/9E0CS0LwkB/0TQJNZz4RJ/BNAylfeynb7E0COFU70jvoTQO14P/6R+RNAANaP5X/4E0AMvdimWPcTQEvEbz4c9hNAcU1mqMr0E0DLRongY/MTQAnoYOLn8RNAkWowqVbwE0BcvfUvsO4TQFg0aXH07BNAMDP9ZyPrE0CH090NPekTQH6G8FxB5xNAiLHTTjDlE0CBRt7cCeMTQOFWHwDO4BNAF6JdsXzeE0DlHhfpFdwTQLZ/gJ+Z2RNA4bGEzAfXE0CpV8RnYNQTQBE9lWij0RNARscBxtDOE0CfXsh26MsTQBbTWnHqyBNAI7vdq9bFE0DczCccrcITQEAxwbdtvxNAmNHicxi8E0DKnnVFrbgTQIPSESEstRNAFir++pSxE0D9Gi/H560TQMQARnkkqhNAUUSQBEumE0BWfAZcW6ITQNOGS3JVnhNAfJurOTmaE0DSVhukBpYTQNy9NqO9kRNAOzpAKF6NE0CCjh8k6IgTQI7CYIdbhBNAyAczQrh/E0ADlWdE/noTQNd5cH0tdhNAPWlf3EVxE0Ane+RPR2wTQPrkTMYxZxNAhqiBLQViE0BfOQZzwVwTQEMY94NmVxNAVGQITfRRE0DWYYS6akwTQDv2SbjJRhNAHhnLMRFBE0DoOQsSQTsTQNeZnUNZNRNAA5qjsFkvE0AY/cpCQikTQGccTOMSIxNA6A/oesscE0DfyObxaxYTQKkeFTD0DxNAW83CHGQJE0C/ZcCeuwITQDkuXZz6+xJAK/Rk+yD1EkBTzR2hLu4SQKvIRXIj5xJARo4QU//fEkCh7SQnwtgSQNxZmtFr0RJAQFP2NPzJEkCEvSkzc8ISQCoijq3QuhJAR97ihBSzEkAgO0qZPqsSQMNwRspOoxJACpK29kSbEkAiYdP8IJMSQN8LLLriihJAAc+iC4qCEkCMf2nNFnoSQFL5/dqIcRJAtHEmD+BoEkCzre1DHGASQDYan1I9VxJAesXCE0NOEkCcOBlfLUUSQAUwlwv8OxJAhTFh764yEkDe/sbfRSkSQGPjPrHAHxJAU9tgNx8WEkB7k+FEYQwSQIc/jauGAhJAm0VCPI/4EUBZvevGeu4RQLvAexpJ5BFA24zlBPrZEUDWcBdTjc8RQL6I9NACxRFAeUJOSVq6EUCLqt2Fk68RQDp+PE+upBFA6QDebKqZEUDkkQelh44RQDMAybxFgxFAbpn0d+R3EUDU8BaZY2wRQGxbbuHCYBFAFB7iEAJVEUD8SfnlIEkRQABE0R0fPRFAHvMTdPwwEUAQku2iuCQRQMkfAmNTGBFAhmpia8wLEUC0sIBxI/8QQMvSJClY8hBA8xBgRGrlEEDpToBzWdgQQHvYAmUlyxBAWaCGxc29EEDc8r0/UrAQQO2VX3yyohBAwk4XIu6UEEDQxXXVBIcQQNTA3zj2eBBAV6p87MFqEEB/XSSOZ1wQQJosTLnmTRBA7hfzBj8/EEASKo0NcDAQQAju7WB5IRBAzPIxkloSEEA8T6cvEwMQQI4waolF5w9A53SDsxHID0DaTTDoiagPQAOGlyutiA9A+A82e3poD0AAgKHN8EcPQFuWRxIPJw9Awq0qMdQFD0Dj3poKP+QOQMal63ZOwg5A1NIlRgGgDkD3jLU/Vn0OQBgmFCJMWg5Ad35touE2DkBvrkBsFRMOQFio+yDm7g1Aun6RV1LKDUC18wqcWKUNQP/vEG/3fw1AlndwRS1aDUDHqZeH+DMNQN1QC5FXDQ1ALnvUr0jmDEB2jOUjyr4MQE4pdh7algxAaFFVwXZuDED77TAenkUMQAsJ0jVOHAxAE9BM94TyC0AWcCM/QMgLQO7CWtZ9nQtASqx/cTtyC0Cp6ZuvdkYLQHD5GBktGgtAKJuPHlztCkCRRIIXAcAKQKC8AEEZkgpAXt0yvKFjCkCDSMiMlzQKQKOdSpf3BApAun1Pn77UCUDyWodF6aMJQGG9pQV0cglAm0MfNFtACUAnN7n7mg0JQAIP5lov2ghAT6rpIBSmCEDZab/qRHEIQP2Sux+9OwhAVo/g7XcFCECDpN9FcM4HQFmhu9aglgdAobMCCQReB0CRGJP5kyQHQLec3HNK6gZAydWO6yCvBkB3nqF1EHMGQG6OosARNgZAI9ouDB34BUChG30fKrkFQLPe1T4weQVAZzzUHyY4BUC9KkHcAfYEQHYhVOO4sgRAjwMa6T9uBEAXdLfTiigEQM1VLaaM4QNAYII0aDeZA0Af5K8KfE8DQHjmGEhKBANA4x0ogJC3AkBoENGNO2kCQK9zcZY2GQJAI1LO0GrHAUD4SB9Cv3MBQNty8m4YHgFAB8wY/VfGAEDZAf1CXGwAQK+3sb//DwBAWlcW6zBi/z97NR8+7p7+P9NFYWbM1f0/8BlkU1EG/T/DeoXV8C/8P/e4PZgIUvs/HGPu4dpr+j9a/iKbh3z5PzHCot4Cg/g/46S/6Qd+9z/v6faPBmz2P0VczhQIS/U/8gid+YUY9D8SYLeuKNHyP1GpLENacPE/94YyhwTf7z/KNk+iB4nsPwxbtHm6vOg/miQ3X9w35D8uBIMBIp/cPwAAAAAAAAAAAAAAAAAAAIAuBIMBIp/cv04kN1/cN+S/zlq0ebq86L+mNk+iB4nsv9eGMocE3++/UaksQ1pw8b8SYLeuKNHyv/IInfmFGPS/RVzOFAhL9b/k6faPBmz2v9Okv+kHfve/JsKi3gKD+L9a/iKbh3z5vxxj7uHaa/q/97g9mAhS+7/DeoXV8C/8v+IZZFNRBv2/y0VhZszV/b9zNR8+7p7+v1pXFuswYv+/r7exv/8PAMDZAf1CXGwAwAfMGP1XxgDA13LybhgeAcD0SB9Cv3MBwB9SztBqxwHArHNxljYZAsBoENGNO2kCwOMdKICQtwLAeOYYSEoEA8Af5K8KfE8DwFyCNGg3mQPAyFUtpozhA8AUdLfTiigEwI8DGuk/bgTAdiFU47iyBMC9KkHcAfYEwGc81B8mOAXAsN7VPjB5BcCeG30fKrkFwCDaLgwd+AXAbo6iwBE2BsB3nqF1EHMGwMnVjusgrwbAt5zcc0rqBsCOGJP5kyQHwJ6zAgkEXgfAVqG71qCWB8CApN9FcM4HwFaP4O13BQjA/ZK7H707CMDZab/qRHEIwE6q6SAUpgjAAA/mWi/aCMAkN7n7mg0JwJhDHzRbQAnAYr2lBXRyCcDyWodF6aMJwLp9T5++1AnAoZ1Kl/cECsCBSMiMlzQKwFzdMryhYwrAnbwAQRmSCsCSRIIXAcAKwCibjx5c7QrAcPkYGS0aC8Cp6ZuvdkYLwEmsf3E7cgvA7MJa1n2dC8AVcCM/QMgLwBDQTPeE8gvACwnSNU4cDMD77TAenkUMwGhRVcF2bgzATSl2HtqWDMB0jOUjyr4MwCx71K9I5gzA21ALkVcNDcDJqZeH+DMNwJZ3cEUtWg3A/+8Qb/d/DcC08wqcWKUNwLh+kVdSyg3AV6j7IObuDcBtrkBsFRMOwHl+baLhNg7AGCYUIkxaDsD3jLU/Vn0OwNTSJUYBoA7AxaXrdk7CDsDh3poKP+QOwMCtKjHUBQ/AWZZHEg8nD8AAgKHN8EcPwPgPNnt6aA/AA4aXK62ID8DZTTDoiagPwOV0g7MRyA/AjDBqiUXnD8A8T6cvEwMQwMvyMZJaEhDAB+7tYHkhEMASKo0NcDAQwO4X8wY/PxDAmSxMueZNEMB/XSSOZ1wQwFaqfOzBahDA1MDfOPZ4EMDPxXXVBIcQwMJOFyLulBDA7ZVffLKiEMDc8r0/UrAQwFmghsXNvRDAe9gCZSXLEMDpToBzWdgQwPIQYERq5RDAy9IkKVjyEMC0sIBxI/8QwIZqYmvMCxHAyB8CY1MYEcAQku2iuCQRwB7zE3T8MBHAAETRHR89EcD7SfnlIEkRwBQe4hACVRHAa1tu4cJgEcDT8BaZY2wRwG6Z9HfkdxHAMwDJvEWDEcDkkQelh44RwOgA3myqmRHAOn48T66kEcCKqt2Fk68RwHlCTklauhHAvYj00ALFEcDWcBdTjc8RwNuM5QT62RHAu8B7GknkEcBZvevGeu4RwJtFQjyP+BHAhz+Nq4YCEsB6k+FEYQwSwFPbYDcfFhLAYuM+scAfEsDd/sbfRSkSwIUxYe+uMhLABTCXC/w7EsCcOBlfLUUSwHrFwhNDThLANhqfUj1XEsCzre1DHGASwLNxJg/gaBLAUfn92ohxEsCMf2nNFnoSwAHPoguKghLA3wssuuKKEsAiYdP8IJMSwAqStvZEmxLAw3BGyk6jEsAgO0qZPqsSwEfe4oQUsxLAKSKOrdC6EsCEvSkzc8ISwD9T9jT8yRLA3Fma0WvREsCh7SQnwtgSwEaOEFP/3xLAq8hFciPnEsBTzR2hLu4SwCv0ZPsg9RLAOS5dnPr7EsC/ZcCeuwITwFvNwhxkCRPAqR4VMPQPE8DfyObxaxYTwOgP6HrLHBPAZxxM4xIjE8AY/cpCQikTwAKao7BZLxPA15mdQ1k1E8DoOQsSQTsTwB4ZyzERQRPAO/ZJuMlGE8DWYYS6akwTwFRkCE30URPAQxj3g2ZXE8BfOQZzwVwTwIaogS0FYhPA+uRMxjFnE8Ane+RPR2wTwD1pX9xFcRPA13lwfS12E8ADlWdE/noTwMgHM0K4fxPAjcJgh1uEE8CBjh8k6IgTwDs6QChejRPA3L02o72RE8DSVhukBpYTwHybqzk5mhPA04ZLclWeE8BWfAZcW6ITwFFEkARLphPAxABGeSSqE8D9Gi/H560TwBYq/vqUsRPAgtIRISy1E8DKnnVFrbgTwJjR4nMYvBPAQDHBt22/E8DczCccrcITwCO73avWxRPAFtNacerIE8CfXsh26MsTwEbHAcbQzhPAET2VaKPRE8CpV8RnYNQTwOCxhMwH1xPAtn+An5nZE8DlHhfpFdwTwBeiXbF83hPA4VYfAM7gE8CBRt7cCeMTwIix004w5RPAfYbwXEHnE8CH090NPekTwDAz/Wcj6xPAWDRpcfTsE8BcvfUvsO4TwJFqMKlW8BPACehg4ufxE8DLRongY/MTwHFNZqjK9BPAS8RvPhz2E8AMvdimWPcTwADWj+V/+BPA7Xg//pH5E8COFU70jvoTwMpX3sp2+xPAk1nPhEn8E8CS0LwkB/0TwIs3/6yv/RPAl/OrH0P+E8AkdZV+wf4TwNRUS8sq/xPAKWwaB3//E8Ad6gwzvv8TwItj6k/o/xPAhN83Xv3/E8CE3zde/f8TwItj6k/o/xPAHeoMM77/E8ApbBoHf/8TwNRUS8sq/xPAJHWVfsH+E8CX86sfQ/4TwIs3/6yv/RPAktC8JAf9E8CTWc+ESfwTwMpX3sp2+xPAjhVO9I76E8DteD/+kfkTwADWj+V/+BPADL3Yplj3E8BLxG8+HPYTwHFNZqjK9BPAy0aJ4GPzE8AJ6GDi5/ETwJFqMKlW8BPAXL31L7DuE8BYNGlx9OwTwDAz/Wcj6xPAh9PdDT3pE8B+hvBcQecTwIix004w5RPAgUbe3AnjE8DhVh8AzuATwBeiXbF83hPA5R4X6RXcE8C2f4CfmdkTwOGxhMwH1xPAqVfEZ2DUE8ARPZVoo9ETwEbHAcbQzhPAn17IdujLE8AW01px6sgTwCO73avWxRPA3MwnHK3CE8BAMcG3bb8TwJjR4nMYvBPAyp51Ra24E8CD0hEhLLUTwBYq/vqUsRPA/Rovx+etE8DEAEZ5JKoTwFFEkARLphPAVnwGXFuiE8DThktyVZ4TwHybqzk5mhPA0lYbpAaWE8DcvTajvZETwDs6QChejRPAgo4fJOiIE8COwmCHW4QTwMgHM0K4fxPAA5VnRP56E8DXeXB9LXYTwD1pX9xFcRPAJ3vkT0dsE8D65EzGMWcTwIaogS0FYhPAXzkGc8FcE8BDGPeDZlcTwFRkCE30URPA1mGEumpME8A79km4yUYTwB4ZyzERQRPA6DkLEkE7E8DXmZ1DWTUTwAOao7BZLxPAGP3KQkIpE8BnHEzjEiMTwOgP6HrLHBPA38jm8WsWE8CpHhUw9A8TwFvNwhxkCRPAv2XAnrsCE8A5Ll2c+vsSwCv0ZPsg9RLAU80doS7uEsCryEVyI+cSwEaOEFP/3xLAoe0kJ8LYEsDcWZrRa9ESwEBT9jT8yRLAhL0pM3PCEsAqIo6t0LoSwEfe4oQUsxLAIDtKmT6rEsDDcEbKTqMSwAqStvZEmxLAImHT/CCTEsDfCyy64ooSwAHPoguKghLAjH9pzRZ6EsBS+f3aiHESwLRxJg/gaBLAs63tQxxgEsA2Gp9SPVcSwHrFwhNDThLAnDgZXy1FEsAFMJcL/DsSwIUxYe+uMhLA3v7G30UpEsBj4z6xwB8SwFPbYDcfFhLAe5PhRGEMEsCHP42rhgISwJtFQjyP+BHAWb3rxnruEcC7wHsaSeQRwNuM5QT62RHA1nAXU43PEcC+iPTQAsURwHlCTklauhHAi6rdhZOvEcA6fjxPrqQRwOkA3myqmRHA5JEHpYeOEcAzAMm8RYMRwG6Z9HfkdxHA1PAWmWNsEcBsW27hwmARwBQe4hACVRHA/En55SBJEcAARNEdHz0RwB7zE3T8MBHAEJLtorgkEcDJHwJjUxgRwIZqYmvMCxHAtLCAcSP/EMDL0iQpWPIQwPMQYERq5RDA6U6Ac1nYEMB72AJlJcsQwFmghsXNvRDA3PK9P1KwEMDtlV98sqIQwMJOFyLulBDA0MV11QSHEMDUwN849ngQwFeqfOzBahDAf10kjmdcEMCaLEy55k0QwO4X8wY/PxDAEiqNDXAwEMAI7u1geSEQwMzyMZJaEhDAPE+nLxMDEMCOMGqJRecPwOd0g7MRyA/A2k0w6ImoD8ADhpcrrYgPwPgPNnt6aA/AAIChzfBHD8BblkcSDycPwMKtKjHUBQ/A496aCj/kDsDGpet2TsIOwNTSJUYBoA7A94y1P1Z9DsAYJhQiTFoOwHd+baLhNg7Ab65AbBUTDsBYqPsg5u4NwLp+kVdSyg3AtfMKnFilDcD/7xBv938NwJZ3cEUtWg3Ax6mXh/gzDcDdUAuRVw0NwC571K9I5gzAdozlI8q+DMBOKXYe2pYMwGhRVcF2bgzA++0wHp5FDMALCdI1ThwMwBPQTPeE8gvAFnAjP0DIC8DuwlrWfZ0LwEqsf3E7cgvAqembr3ZGC8Bw+RgZLRoLwCibjx5c7QrAkUSCFwHACsCgvABBGZIKwF7dMryhYwrAg0jIjJc0CsCjnUqX9wQKwLp9T5++1AnA8lqHRemjCcBhvaUFdHIJwJtDHzRbQAnAJze5+5oNCcACD+ZaL9oIwE+q6SAUpgjA2Wm/6kRxCMD9krsfvTsIwFaP4O13BQjAg6TfRXDOB8BZobvWoJYHwKGzAgkEXgfAkRiT+ZMkB8C3nNxzSuoGwMnVjusgrwbAd56hdRBzBsBujqLAETYGwCPaLgwd+AXAoRt9Hyq5BcCz3tU+MHkFwGc81B8mOAXAvSpB3AH2BMB2IVTjuLIEwI8DGuk/bgTAF3S304ooBMDNVS2mjOEDwGCCNGg3mQPAH+SvCnxPA8B45hhISgQDwOMdKICQtwLAaBDRjTtpAsCvc3GWNhkCwCNSztBqxwHA+EgfQr9zAcDbcvJuGB4BwAfMGP1XxgDA2QH9QlxsAMCvt7G//w8AwFpXFuswYv+/ezUfPu6e/r/TRWFmzNX9v/AZZFNRBv2/w3qF1fAv/L/3uD2YCFL7vxxj7uHaa/q/Wv4im4d8+b8xwqLeAoP4v+Okv+kHfve/7+n2jwZs9r9FXM4UCEv1v/IInfmFGPS/EmC3rijR8r9RqSxDWnDxv/eGMocE3++/yjZPogeJ7L8MW7R5urzov5okN1/cN+S/LgSDASKf3L8AAAAAAAAAgA==",
          "dtype": "f8"
         },
         "y": {
          "bdata": "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",
          "dtype": "f8"
         },
         "z": {
          "bdata": "5vuEBZCmRcBMhIoUtJdFwBd+hPm+iEXA6Tmd3bB5RcA4zLnpiWpFwIX2ekZKW0XAwww+HPJLRcDz1h2TgTxFwBdv89L4LEXAjBtXA1gdRcDRJaFLnw1FwOKt6tLO/UTAL3oOwObtRMA6xKk5591EwPsBHWbQzUTAE6yMa6K9RMDeAOJvXa1EwHbEy5gBnUTAtv2+C4+MRMBQsPftBXxEwP6TeWRma0TA4MgQlLBaRMAYiVKh5ElEwLHXnbACOUTA1Cwc5gooRMBtH8Jl/RZEwDcMUFPaBUTAUrpS0qH0Q8BV/SMGVONDwP5U6xHx0UPAiIqeGHnAQ8CmSwI97K5DwEHDqqFKnUPA7y/8aJSLQ8BEeCu1yXlDwPO8PqjqZ0PA3egNZPdVQ8AAP0MK8ENDwHXmW7zUMUPAUHSom6UfQ8Coc03JYg1DwKLrQ2YM+0LApuNZk6LoQsCm5TJxJdZCwK9+SCCVw0LAmr3qwPGwQsAPsEBzO55CwLfdSFdyi0LA5MHZjJZ4QsBmQ6IzqGVCwOEqKmunUkLAc5fSUpQ/QsDYcdYJbyxCwPjdSq83GULA9qofYu4FQsDEwR9Bk/JBwDmS8Wom30HAwX4X/qfLQcCbRvAYGLhBwL5ut9l2pEHAUKmFXsSQQcDgO1HFAH1BwDdk7issaUHA6rsPsEZVQcCnmkZvUEFBwDx3A4dJLUHAbUeWFDIZQcCM3i41CgVBwOhK3QXS8EDADjKSo4ncQMDnKx8rMchAwLUcN7nIs0DA841ualCfQMAgBjxbyIpAwHlf+KcwdkDAqB3fbIlhQMBcwg7G0kxAwO0gic8MOEDAALEzpTcjQMAg4NdiUw5AwNPERkjA8j/AjgRRCbzIP8Bn3rw/mp4/wC4XQyJbdD/AcHNn5/5JP8CnT3nFhR8/wIQ2lPLv9D7ApHWgpD3KPsB6sFMRb58+wKNxMW6EdD7AhbqL8H1JPsBRkYPNWx4+wIKNCToe8z3AsmLeasXHPcD5aZOUUZw9wMApi+vCcD3AGtz5oxlFPcCi8+XxVRk9wO6eKAl47TzAjkpuHYDBPMC2ITdibpU8wHiN1wpDaTzAprJ4Sv48PMBv7hhUoBA8wJdRjFop5DvAdhp9kJm3O8CtLWwo8Yo7wJaNsVQwXjvAgtB8R1cxO8DAldUyZgQ7wG35m0hd1zrAIQeJujyqOsBsKy+6BH06wD+k+ni1TzrAHvAxKE8iOsBWPPb40fQ5wAfSQxw+xznALYLywpOZOcCOELYd02s5wKudHl38PTnAsQ+ZsQ8QOcBQem9LDeI4wLmFyVr1szjAi9SsD8iFOMDZaP2ZhVc4wC0IfikuKTjAvZ7Q7cH6N8CXoXYWQcw3wP9v0dKrnTfA2bMiUgJvN8BHwYzDREA3wFv1ElZzETfA+hOaOI7iNsDxpOiZlbM2wCNQp6iJhDbACzlhk2pVNsBSWYSIOCY2wLPaYbbz9jXAFHAuS5zHNcDdrQJ1Mpg1wJZh22G2aDXAv+iZPyg5NcAChwQ8iAk1wJi7xoTW2TTAFZZxRxOqNMBvCnyxPno0wGVEQ/BYSjTAN/oKMWIaNMC6vv2gWuozwL1SLW1CujPA3/WSwhmKM8Cvtg/O4FkzwEHCbLyXKTPAIbNbuj75MsCp33b01cgywM6nQZddmDLATMIoz9VnMsBLiYLIPjcywHJGj6+YBjLAb355sOPVMcDwO1b3H6UxwBpaJbBNdDHAf87RBm1DMcCC8jEnfhIxwEbMBz2B4TDAGlcBdHawMMBvy7j3XX8wwEDmtPM3TjDAHjBpkwQdMMBPh2wEiNcvwEon1NbsdC/AP2GA9DcSL8AlHMSzaa8uwFaOzmqCTC7AMMarb4LpLcDmMUUYaoYtwHYmYro5Iy3A6GWoq/G/LMCWpJxBklwswOYNo9Eb+SvACcj/sI6VK8And9c06zErwK2/L7IxzirA88fvfWJqKsAvueDsfQYqwKc/rlOEoinASArnBnY+KcB3Sf1aU9oowFgtR6QcdijAVWP/NtIRKMAYk0VndK0nwNPaHokDSSfAA0t28H/kJsCFYR3x6X8mwB6EzN5BGybAgHojDYi2JcCX56nPvFElwITCz3ng7CTA1c7tXvOHJMBiFEbS9SIkwIhWBCfovSPA+oo+sMpYI8ALUPXAnfMiwIJiFKxhjiLA2BJzxBYpIsBDutRcvcMhwAwv6cdVXiHAmzhNWOD4IMD4AotgXZMgwBiSGjPNLSDAA2nERGCQH8CC620BDcUewJMgukCh+R3AZ74Qpx0uHcDZnrnYgmIcwCOh3XnRlhvAL4uHLgrLGsDu6aSaLf8ZwDPxBmI8MxnAv1pjKDdnGMAWRVWRHpsXwE4RXkDzzhbAn0Dm2LUCFsAVUT7+ZjYVwDCan1MHahTAoSgtfJedE8CJmfQaGNESwKf17tKJBBLAlIsBR+03EcDzyf4ZQ2sQwKkxTt0XPQ/AcmZTz5CjDcB9/0pP8gkMwGXSU6I9cArAKm1vDXTWCMBaxoPVljwHwOvrXD+nogXAhrGuj6YIBMD/XhYLlm4CwIhdHPZ21ADA18lrKpV0/r/AT41ZJED7v44BRQKeC/i/jzoerQTX9L8xVIviWqLxvxP40VVG2+y/ExYDHcBx5r+1tSArKAjgv5FrFCEHPdO/OGhy7Lqmub84aHLsuqa5P/FqFCEHPdM/ZbUgKygI4D8TFgMdwHHmPxP40VVG2+w/CVSL4lqi8T+POh6tBNf0P44BRQKeC/g/mE+NWSRA+z+vyWsqlXT+P4hdHPZ21ABA/14WC5ZuAkBysa6PpggEQNfrXD+nogVAWsaD1ZY8B0AqbW8NdNYIQFHSU6I9cApAff9KT/IJDEByZlPPkKMNQJUxTt0XPQ9A6cn+GUNrEECUiwFH7TcRQKf17tKJBBJAf5n0GhjREkCXKC18l50TQDCan1MHahRAFVE+/mY2FUCVQObYtQIWQE4RXkDzzhZAFkVVkR6bF0C1WmMoN2cYQCnxBmI8MxlA7umkmi3/GUAvi4cuCssaQBmh3XnRlhtA0J652IJiHEBnvhCnHS4dQJMgukCh+R1AeOttAQ3FHkADacREYJAfQBiSGjPNLSBA8wKLYF2TIECWOE1Y4PggQAwv6cdVXiFAQ7rUXL3DIUDTEnPEFikiQH1iFKxhjiJAC1D1wJ3zIkD6ij6wylgjQINWBCfovSNAYBRG0vUiJEDVzu1e84ckQH/Cz3ng7CRAlOepz7xRJUB9eiMNiLYlQB6EzN5BGyZAgGEd8el/JkABS3bwf+QmQNPaHokDSSdAGJNFZ3StJ0BSY/820hEoQFYtR6QcdihAd0n9WlPaKEBDCucGdj4pQKQ/rlOEoilALLng7H0GKkDzx+99YmoqQKm/L7IxzipAJXfXNOsxK0AJyP+wjpUrQOENo9Eb+StAk6ScQZJcLEDlZair8b8sQHYmYro5Iy1A4TFFGGqGLUAtxqtvguktQFSOzmqCTC5AJRzEs2mvLkA6YYD0NxIvQEcn1NbsdC9AT4dsBIjXL0AcMGmTBB0wQD/mtPM3TjBAbsu4911/MEAaVwF0drAwQEPMBz2B4TBAgPIxJ34SMUB+ztEGbUMxQBpaJbBNdDFA7TtW9x+lMUBtfnmw49UxQHJGj6+YBjJASYmCyD43MkBKwijP1WcyQM2nQZddmDJAqd929NXIMkAfs1u6PvkyQEDCbLyXKTNArrYPzuBZM0Df9ZLCGYozQLtSLW1CujNAub79oFrqM0A3+goxYho0QGNEQ/BYSjRAbgp8sT56NEATlnFHE6o0QJi7xoTW2TRA/4YEPIgJNUC+6Jk/KDk1QJVh22G2aDVA3a0CdTKYNUATcC5LnMc1QLLaYbbz9jVAUlmEiDgmNkAJOWGTalU2QCFQp6iJhDZA76TomZWzNkD6E5o4juI2QFj1ElZzETdARsGMw0RAN0DYsyJSAm83QP9v0dKrnTdAlqF2FkHMN0C8ntDtwfo3QC0IfikuKThA1mj9mYVXOECK1KwPyIU4QLeFyVr1szhAUHpvSw3iOECvD5mxDxA5QKudHl38PTlAjRC2HdNrOUAtgvLCk5k5QAbSQxw+xzlAVTz2+NH0OUAe8DEoTyI6QD2k+ni1TzpAaysvugR9OkAgB4m6PKo6QG35m0hd1zpAvZXVMmYEO0CA0HxHVzE7QJWNsVQwXjtArS1sKPGKO0B1Gn2Qmbc7QJZRjFop5DtAb+4YVKAQPECksnhK/jw8QHeN1wpDaTxAtSE3Ym6VPECLSm4dgME8QOyeKAl47TxAofPl8VUZPUAa3PmjGUU9QMApi+vCcD1A+WmTlFGcPUCvYt5qxcc9QH+NCToe8z1AUZGDzVsePkCEuovwfUk+QKNxMW6EdD5AerBTEW+fPkCkdaCkPco+QIU2lPLv9D5ApE95xYUfP0Bwc2fn/kk/QCwXQyJbdD9AZt68P5qeP0COBFEJvMg/QNPERkjA8j9AIODXYlMOQED/sDOlNyNAQOwgic8MOEBAW8IOxtJMQECoHd9siWFAQHlf+KcwdkBAIAY8W8iKQEDzjW5qUJ9AQLMcN7nIs0BA5SsfKzHIQEANMpKjidxAQOhK3QXS8EBAjN4uNQoFQUBtR5YUMhlBQDx3A4dJLUFAp5pGb1BBQUDpuw+wRlVBQDZk7issaUFA4DtRxQB9QUBPqYVexJBBQL5ut9l2pEFAm0bwGBi4QUDCfhf+p8tBQDmS8Wom30FAw8EfQZPyQUD2qh9i7gVCQPfdSq83GUJA2HHWCW8sQkBzl9JSlD9CQOEqKmunUkJAZUOiM6hlQkDjwdmMlnhCQLbdSFdyi0JADrBAczueQkCaverA8bBCQK9+SCCVw0JApuUycSXWQkCm41mTouhCQKLrQ2YM+0JAp3NNyWINQ0BQdKibpR9DQHXmW7zUMUNAAD9DCvBDQ0Dd6A1k91VDQPO8PqjqZ0NARHgrtcl5Q0DvL/xolItDQEHDqqFKnUNApksCPeyuQ0CIip4YecBDQP5U6xHx0UNAVf0jBlTjQ0BSulLSofRDQDcMUFPaBURAbB/CZf0WREDULBzmCihEQLHXnbACOURAGIlSoeRJREDgyBCUsFpEQP6TeWRma0RAT7D37QV8REC2/b4Lj4xEQHXEy5gBnURA3gDib12tREATrIxror1EQPsBHWbQzURAOsSpOefdREAueg7A5u1EQOGt6tLO/URA0SWhS58NRUCMG1cDWB1FQBdv89L4LEVA89Ydk4E8RUDDDD4c8ktFQIT2ekZKW0VAOMy56YlqRUDpOZ3dsHlFQBd+hPm+iEVATISKFLSXRUDm+4QFkKZFQOb7hAWQpkXATISKFLSXRcAXfoT5vohFwOk5nd2weUXAOMy56YlqRcCF9npGSltFwMMMPhzyS0XA89Ydk4E8RcAXb/PS+CxFwIwbVwNYHUXA0SWhS58NRcDirerSzv1EwC96DsDm7UTAOsSpOefdRMD7AR1m0M1EwBOsjGuivUTA3gDib12tRMB2xMuYAZ1EwLb9vguPjETAULD37QV8RMD+k3lkZmtEwODIEJSwWkTAGIlSoeRJRMCx152wAjlEwNQsHOYKKETAbR/CZf0WRMA3DFBT2gVEwFK6UtKh9EPAVf0jBlTjQ8D+VOsR8dFDwIiKnhh5wEPApksCPeyuQ8BBw6qhSp1DwO8v/GiUi0PARHgrtcl5Q8DzvD6o6mdDwN3oDWT3VUPAAD9DCvBDQ8B15lu81DFDwFB0qJulH0PAqHNNyWINQ8Ci60NmDPtCwKbjWZOi6ELApuUycSXWQsCvfkgglcNCwJq96sDxsELAD7BAczueQsC33UhXcotCwOTB2YyWeELAZkOiM6hlQsDhKiprp1JCwHOX0lKUP0LA2HHWCW8sQsD43UqvNxlCwPaqH2LuBULAxMEfQZPyQcA5kvFqJt9BwMF+F/6ny0HAm0bwGBi4QcC+brfZdqRBwFCphV7EkEHA4DtRxQB9QcA3ZO4rLGlBwOq7D7BGVUHAp5pGb1BBQcA8dwOHSS1BwG1HlhQyGUHAjN4uNQoFQcDoSt0F0vBAwA4ykqOJ3EDA5ysfKzHIQMC1HDe5yLNAwPONbmpQn0DAIAY8W8iKQMB5X/inMHZAwKgd32yJYUDAXMIOxtJMQMDtIInPDDhAwACxM6U3I0DAIODXYlMOQMDTxEZIwPI/wI4EUQm8yD/AZ968P5qeP8AuF0MiW3Q/wHBzZ+f+ST/Ap095xYUfP8CENpTy7/Q+wKR1oKQ9yj7AerBTEW+fPsCjcTFuhHQ+wIW6i/B9ST7AUZGDzVsePsCCjQk6HvM9wLJi3mrFxz3A+WmTlFGcPcDAKYvrwnA9wBrc+aMZRT3AovPl8VUZPcDunigJeO08wI5Kbh2AwTzAtiE3Ym6VPMB4jdcKQ2k8wKayeEr+PDzAb+4YVKAQPMCXUYxaKeQ7wHYafZCZtzvArS1sKPGKO8CWjbFUMF47wILQfEdXMTvAwJXVMmYEO8Bt+ZtIXdc6wCEHibo8qjrAbCsvugR9OsA/pPp4tU86wB7wMShPIjrAVjz2+NH0OcAH0kMcPsc5wC2C8sKTmTnAjhC2HdNrOcCrnR5d/D05wLEPmbEPEDnAUHpvSw3iOMC5hcla9bM4wIvUrA/IhTjA2Wj9mYVXOMAtCH4pLik4wL2e0O3B+jfAl6F2FkHMN8D/b9HSq503wNmzIlICbzfAR8GMw0RAN8Bb9RJWcxE3wPoTmjiO4jbA8aTomZWzNsAjUKeoiYQ2wAs5YZNqVTbAUlmEiDgmNsCz2mG28/Y1wBRwLkucxzXA3a0CdTKYNcCWYdthtmg1wL/omT8oOTXAAocEPIgJNcCYu8aE1tk0wBWWcUcTqjTAbwp8sT56NMBlREPwWEo0wDf6CjFiGjTAur79oFrqM8C9Ui1tQrozwN/1ksIZijPAr7YPzuBZM8BBwmy8lykzwCGzW7o++TLAqd929NXIMsDOp0GXXZgywEzCKM/VZzLAS4mCyD43MsByRo+vmAYywG9+ebDj1THA8DtW9x+lMcAaWiWwTXQxwH/O0QZtQzHAgvIxJ34SMcBGzAc9geEwwBpXAXR2sDDAb8u4911/MMBA5rTzN04wwB4waZMEHTDAT4dsBIjXL8BKJ9TW7HQvwD9hgPQ3Ei/AJRzEs2mvLsBWjs5qgkwuwDDGq2+C6S3A5jFFGGqGLcB2JmK6OSMtwOhlqKvxvyzAlqScQZJcLMDmDaPRG/krwAnI/7COlSvAJ3fXNOsxK8Ctvy+yMc4qwPPH731iairAL7ng7H0GKsCnP65ThKIpwEgK5wZ2PinAd0n9WlPaKMBYLUekHHYowFVj/zbSESjAGJNFZ3StJ8DT2h6JA0knwANLdvB/5CbAhWEd8el/JsAehMzeQRsmwIB6Iw2ItiXAl+epz7xRJcCEws954OwkwNXO7V7zhyTAYhRG0vUiJMCIVgQn6L0jwPqKPrDKWCPAC1D1wJ3zIsCCYhSsYY4iwNgSc8QWKSLAQ7rUXL3DIcAML+nHVV4hwJs4TVjg+CDA+AKLYF2TIMAYkhozzS0gwANpxERgkB/AguttAQ3FHsCTILpAofkdwGe+EKcdLh3A2Z652IJiHMAjod150ZYbwC+Lhy4KyxrA7umkmi3/GcAz8QZiPDMZwL9aYyg3ZxjAFkVVkR6bF8BOEV5A884WwJ9A5ti1AhbAFVE+/mY2FcAwmp9TB2oUwKEoLXyXnRPAiZn0GhjREsCn9e7SiQQSwJSLAUftNxHA88n+GUNrEMCpMU7dFz0PwHJmU8+Qow3Aff9KT/IJDMBl0lOiPXAKwCptbw101gjAWsaD1ZY8B8Dr61w/p6IFwIaxro+mCATA/14WC5ZuAsCIXRz2dtQAwNfJayqVdP6/wE+NWSRA+7+OAUUCngv4v486Hq0E1/S/MVSL4lqi8b8T+NFVRtvsvxMWAx3Acea/tbUgKygI4L+RaxQhBz3Tvzhocuy6prm/OGhy7LqmuT/xahQhBz3TP2W1ICsoCOA/ExYDHcBx5j8T+NFVRtvsPwlUi+JaovE/jzoerQTX9D+OAUUCngv4P5hPjVkkQPs/r8lrKpV0/j+IXRz2dtQAQP9eFguWbgJAcrGuj6YIBEDX61w/p6IFQFrGg9WWPAdAKm1vDXTWCEBR0lOiPXAKQH3/Sk/yCQxAcmZTz5CjDUCVMU7dFz0PQOnJ/hlDaxBAlIsBR+03EUCn9e7SiQQSQH+Z9BoY0RJAlygtfJedE0Awmp9TB2oUQBVRPv5mNhVAlUDm2LUCFkBOEV5A884WQBZFVZEemxdAtVpjKDdnGEAp8QZiPDMZQO7ppJot/xlAL4uHLgrLGkAZod150ZYbQNCeudiCYhxAZ74Qpx0uHUCTILpAofkdQHjrbQENxR5AA2nERGCQH0AYkhozzS0gQPMCi2BdkyBAljhNWOD4IEAML+nHVV4hQEO61Fy9wyFA0xJzxBYpIkB9YhSsYY4iQAtQ9cCd8yJA+oo+sMpYI0CDVgQn6L0jQGAURtL1IiRA1c7tXvOHJEB/ws954OwkQJTnqc+8USVAfXojDYi2JUAehMzeQRsmQIBhHfHpfyZAAUt28H/kJkDT2h6JA0knQBiTRWd0rSdAUmP/NtIRKEBWLUekHHYoQHdJ/VpT2ihAQwrnBnY+KUCkP65ThKIpQCy54Ox9BipA88fvfWJqKkCpvy+yMc4qQCV31zTrMStACcj/sI6VK0DhDaPRG/krQJOknEGSXCxA5WWoq/G/LEB2JmK6OSMtQOExRRhqhi1ALcarb4LpLUBUjs5qgkwuQCUcxLNpry5AOmGA9DcSL0BHJ9TW7HQvQE+HbASI1y9AHDBpkwQdMEA/5rTzN04wQG7LuPddfzBAGlcBdHawMEBDzAc9geEwQIDyMSd+EjFAfs7RBm1DMUAaWiWwTXQxQO07VvcfpTFAbX55sOPVMUByRo+vmAYyQEmJgsg+NzJASsIoz9VnMkDNp0GXXZgyQKnfdvTVyDJAH7Nbuj75MkBAwmy8lykzQK62D87gWTNA3/WSwhmKM0C7Ui1tQrozQLm+/aBa6jNAN/oKMWIaNEBjREPwWEo0QG4KfLE+ejRAE5ZxRxOqNECYu8aE1tk0QP+GBDyICTVAvuiZPyg5NUCVYdthtmg1QN2tAnUymDVAE3AuS5zHNUCy2mG28/Y1QFJZhIg4JjZACTlhk2pVNkAhUKeoiYQ2QO+k6JmVszZA+hOaOI7iNkBY9RJWcxE3QEbBjMNEQDdA2LMiUgJvN0D/b9HSq503QJahdhZBzDdAvJ7Q7cH6N0AtCH4pLik4QNZo/ZmFVzhAitSsD8iFOEC3hcla9bM4QFB6b0sN4jhArw+ZsQ8QOUCrnR5d/D05QI0Qth3TazlALYLywpOZOUAG0kMcPsc5QFU89vjR9DlAHvAxKE8iOkA9pPp4tU86QGsrL7oEfTpAIAeJujyqOkBt+ZtIXdc6QL2V1TJmBDtAgNB8R1cxO0CVjbFUMF47QK0tbCjxijtAdRp9kJm3O0CWUYxaKeQ7QG/uGFSgEDxApLJ4Sv48PEB3jdcKQ2k8QLUhN2JulTxAi0puHYDBPEDsnigJeO08QKHz5fFVGT1AGtz5oxlFPUDAKYvrwnA9QPlpk5RRnD1Ar2LeasXHPUB/jQk6HvM9QFGRg81bHj5AhLqL8H1JPkCjcTFuhHQ+QHqwUxFvnz5ApHWgpD3KPkCFNpTy7/Q+QKRPecWFHz9AcHNn5/5JP0AsF0MiW3Q/QGbevD+anj9AjgRRCbzIP0DTxEZIwPI/QCDg12JTDkBA/7AzpTcjQEDsIInPDDhAQFvCDsbSTEBAqB3fbIlhQEB5X/inMHZAQCAGPFvIikBA841ualCfQECzHDe5yLNAQOUrHysxyEBADTKSo4ncQEDoSt0F0vBAQIzeLjUKBUFAbUeWFDIZQUA8dwOHSS1BQKeaRm9QQUFA6bsPsEZVQUA2ZO4rLGlBQOA7UcUAfUFAT6mFXsSQQUC+brfZdqRBQJtG8BgYuEFAwn4X/qfLQUA5kvFqJt9BQMPBH0GT8kFA9qofYu4FQkD33UqvNxlCQNhx1glvLEJAc5fSUpQ/QkDhKiprp1JCQGVDojOoZUJA48HZjJZ4QkC23UhXcotCQA6wQHM7nkJAmr3qwPGwQkCvfkgglcNCQKblMnEl1kJApuNZk6LoQkCi60NmDPtCQKdzTcliDUNAUHSom6UfQ0B15lu81DFDQAA/QwrwQ0NA3egNZPdVQ0DzvD6o6mdDQER4K7XJeUNA7y/8aJSLQ0BBw6qhSp1DQKZLAj3srkNAiIqeGHnAQ0D+VOsR8dFDQFX9IwZU40NAUrpS0qH0Q0A3DFBT2gVEQGwfwmX9FkRA1Cwc5gooRECx152wAjlEQBiJUqHkSURA4MgQlLBaRED+k3lkZmtEQE+w9+0FfERAtv2+C4+MREB1xMuYAZ1EQN4A4m9drURAE6yMa6K9RED7AR1m0M1EQDrEqTnn3URALnoOwObtREDhrerSzv1EQNEloUufDUVAjBtXA1gdRUAXb/PS+CxFQPPWHZOBPEVAwww+HPJLRUCE9npGSltFQDjMuemJakVA6Tmd3bB5RUAXfoT5vohFQEyEihS0l0VA5vuEBZCmRUAAAAAAAAAAgPQSvH0a0QHACtoqtfYRCcCZ5C6vuowOwAtEEGtyjBHAjkyvpjGFE8BBm+fjPUYVwL963JyC3BbAUNSU+nVQGMDl991fAKgZwG0tvaJ05xrAsPpBpBoSHMBJD6BCgiodwIaf+cK3Mh7AtsRFa2YsH8BNoUYYeAwgwJcQlTW/fCDAm7fq9obnIMDTLgP8O00hwDym9Ho8riHAOgYv19oKIsDvcPelX2MiwGUSMkYLuCLAe75CJhcJI8BxzlLLtlYjwLpdIKgYoSPAgCzZzWboI8Ae+ep+xywkwBRN0aldbiTAJZyGUEmtJMASFjfgp+kkwFY+DXyUIyXA8olZPShbJcCQbOJqepAlwLt00KigwyXAYehjIq/0JcCGBWquuCMmwOgkPO/OUCbAMuXvbgJ8JsDWR0O4YqUmwM3LuGz+zCbA/PJEWOPyJsD5Xt+CHhcnwE4jPUC8OSfAtofvPchaJ8DQ0RmQTXonwA136bxWmCfAIgv2xu20J8DZJqk2HNAnwMI0yiLr6SfATWlGOGMCKMA7D0rBjBkowPenvatvLyjAJBg3jxNEKMDvIW2yf1cowNC9ORC7aSjAuWs2XMx6KMAyUfwGuooowE/eEEKKmSjAnLyGA0OnKMBI81kJ6rMowA5vjdyEvyjA6HUP1BjKKMCt/GkXq9MowHpTQ6FA3CjAxCuzQd7jKMDMlW+giOoowI051T5E8CjAKr/NeRX1KMAOFJeLAPkowDf6bY0J/CjAahYeeTT+KMBTf3kqhf8owLShuWD//yjAEyXLv6b/KMAnV4bRfv4owDKD1QaL/CjAaHzKuM75KMBEh6QpTfYowFS1x4UJ8ijAdbCm5AbtKMCc3p9JSOcowKi0zqTQ4CjAGv7R06LZKMB00IeiwdEowPXSv8svySjA3Xbk+e+/KMC3sJvHBLYowLq4X8BwqyjAVk4QYTagKMBi8nwYWJQowBKD6EfYhyjAXp2GQ7l6KMCYIPNS/WwowKYqpLGmXijAa91Wj7dPKMCAOHcQMkAowG9Ng04YMCjAAhBqWGwfKMDs/+UyMA4owEDl09hl/CfAQ9WFOw/qJ8AjshJDLtcnwJZUos7EwyfAzYu2tNSvJ8AsHXHDX5snwP3q1sBnhifApmYQa+5wJ8AUcad49VonwMjJwph+RCfAIytfc4stJ8DFMIapHRYnwEAjg9U2/ibAscIVi9jlJsB8KKNXBM0mwBzXZMK7sybAbw2WTACaJsAncp9x038mwIAqQac2ZSbAkG67XStKJsCUrPX/si4mwHVLpPPOEibALRxtmYD2JcC6iApNydklwIqObWWqvCXAxZHeNCWfJcDPFR0JO4ElwDdnfivtYiXAO0IL4TxEJcDCgJxqKyUlwAra9gS6BSXA373l6OnlJMB8VFVLvMUkwCWsa10ypSTAtRyhTE2EJMBS6ddCDmMkwNQnc2Z2QSTAOvVs2oYfJMAP/mu+QP0jwI5h2C6l2iPArPXvRLW3I8A28tkWcpQjwMwIurfccCPALu/CN/ZMI8A9YUikvygjwKWf0Ac6BCPAJ3AlambfIsD7o2TQRboiwOcoED3ZlCLAG6kdsCFvIsAMvgUnIEkiwBC60pzVIiLAlAwvCkP8IcBxRHNladUhwMSzs6JJriHAurjNs+SGIcBErnSIO18hwPKHPg5PNyHAshuwMCAPIcBhHEnZr+YgwMDHj+/+vSDAf0ocWQ6VIMDN3KP53msgwL6ZA7NxQiDABRRLZccYIMDvU43dwd0fwG02E1h+iR/AuMPv78U0H8COop9Xmt8ewKP4Zj79iR7AwcljUPAzHsDk7J82dd0dwPKaIpeNhh3AQZoBFTsvHcD3CXJQf9ccwJbQ2OZbfxzAULDactImHMBVBGyM5M0bwH8p4MiTdBvAXJX4uuEaG8DVnfPyz8AawC30mv5fZhrAi9VRaZMLGsB/8yK8a7AZwL8Wzn3qVBnAGH7VMhH5GMD/+4pd4ZwYwG3UHH5cQBjATV2iEoTjF8AVYyiXWYYXwL9TvYXeKBfAgDF9VhTLFsBaT51//GwWwPTYd3WYDhbAcCeXqumvFcDp5MCP8VAVwOj/AJSx8RTAk3C0JCuSFMDG0JOtXzIUwLzIvZhQ0hPAZlHBTv9xE8Dzzac2bRETwMv9/rWbsBLAJMjiMIxPEsBw4gYKQO4RwBFTwKK4jBHAENEOW/cqEcBPAqaR/cgQwBmZ9qPMZhDAYlI37mUEEMDSqtuWlUMPwBrs7ir5fQ7APLUjSvm3DcDJDMejmPEMwPiSCOXZKgzAPi4Lub9jC8DXhvXITJwKwGBSAryD1AnAyHGQN2cMCcDu4jLf+UMIwA+IwFQ+ewfA+MVjODeyBsA5+6ko5+gFwE7RksJQHwXAB2qfoXZVBMDtaeFfW4sDwGrhCZYBwQLAkRZ422v2AcAuMEjGnCsBwCPEYeuWYADAIpQMvbkq/79E6L5k4pP9v2TdGvGs/Pu/ThFqgx5l+r+9ihs7PM34vzq03zULNfe/8i7Ej5Cc9b/lgE9j0QP0v3qhnMnSavK/lWV22pnR8L+NneVYV3Duv0N+HKoaPeu/riqN0YcJ6L/mY2z2qNXkv5fSXT6IoeG/eo5Tm1/a3L+Mu+WOU3HWv/AM15sACNC/9uctCvY8w7857FFkuKapvznsUWS4pqk/VuctCvY8wz+gDNebAAjQP4y75Y5TcdY/eo5Tm1/a3D9v0l0+iKHhP+ZjbPao1eQ/riqN0YcJ6D8bfhyqGj3rP2Wd5VhXcO4/lWV22pnR8D96oZzJ0mryP9GAT2PRA/Q/3i7Ej5Cc9T86tN81CzX3P72KGzs8zfg/OhFqgx5l+j9k3RrxrPz7P0TovmTik/0/DpQMvbkq/z8ZxGHrlmAAQC4wSMacKwFAkRZ422v2AUBg4QmWAcECQORp4V9biwNAB2qfoXZVBEBO0ZLCUB8FQDD7qSjn6AVA+MVjODeyBkAPiMBUPnsHQOTiMt/5QwhAv3GQN2cMCUBgUgK8g9QJQNeG9chMnApANC4Lub9jC0Dukgjl2SoMQMkMx6OY8QxAPLUjSvm3DUAQ7O4q+X0OQNKq25aVQw9AYlI37mUEEEAUmfajzGYQQEsCppH9yBBAENEOW/cqEUARU8CiuIwRQGviBgpA7hFAH8jiMIxPEkDL/f61m7ASQPPNpzZtERNAYVHBTv9xE0C6yL2YUNITQMbQk61fMhRAjnC0JCuSFEDm/wCUsfEUQOfkwI/xUBVAcCeXqumvFUDv2Hd1mA4WQFdPnX/8bBZAgDF9VhTLFkC/U72F3igXQBNjKJdZhhdASl2iEoTjF0Bt1Bx+XEAYQPr7il3hnBhAFX7VMhH5GEC8Fs596lQZQH/zIrxrsBlAhtVRaZMLGkAq9Jr+X2YaQNWd8/LPwBpAWJX4uuEaG0B8KeDIk3QbQFMEbIzkzRtAULDactImHECR0NjmW38cQPUJclB/1xxAPpoBFTsvHUDymiKXjYYdQN/snzZ13R1Av8ljUPAzHkCj+GY+/YkeQImin1ea3x5AtsPv78U0H0BrNhNYfokfQO9Tjd3B3R9AAxRLZccYIEC9mQOzcUIgQMzco/neayBAf0ocWQ6VIEC+x4/v/r0gQGAcSdmv5iBAshuwMCAPIUDwhz4OTzchQEKudIg7XyFAubjNs+SGIUDEs7OiSa4hQHBEc2Vp1SFAlAwvCkP8IUAOutKc1SIiQAy+BScgSSJAGqkdsCFvIkDmKBA92ZQiQPujZNBFuiJAJHAlambfIkCln9AHOgQjQD1hSKS/KCNALu/CN/ZMI0DLCLq33HAjQDXy2RZylCNAq/XvRLW3I0COYdgupdojQA7+a75A/SNAOfVs2oYfJEDUJ3NmdkEkQFHp10IOYyRAsxyhTE2EJEAlrGtdMqUkQHxUVUu8xSRA3r3l6OnlJEAJ2vYEugUlQMGAnGorJSVAO0IL4TxEJUA3Z34r7WIlQNAVHQk7gSVAxZHeNCWfJUCJjm1lqrwlQLmICk3J2SVALBxtmYD2JUB1S6TzzhImQJOs9f+yLiZAj267XStKJkB/KkGnNmUmQCdyn3HTfyZAbw2WTACaJkAb12TCu7MmQHwoo1cEzSZArsIVi9jlJkA/I4PVNv4mQMQwhqkdFidAIytfc4stJ0DIycKYfkQnQBNxp3j1WidApmYQa+5wJ0D96tbAZ4YnQC0dccNfmydAzIu2tNSvJ0CWVKLOxMMnQCKyEkMu1ydARNWFOw/qJ0A/5dPYZfwnQOz/5TIwDihAARBqWGwfKEBvTYNOGDAoQIA4dxAyQChAa91Wj7dPKECmKqSxpl4oQJcg81L9bChAXZ2GQ7l6KEASg+hH2IcoQGLyfBhYlChAVk4QYTagKEC6uF/AcKsoQLewm8cEtihA3Hbk+e+/KED10r/LL8koQHPQh6LB0ShAGf7R06LZKECotM6k0OAoQJzen0lI5yhAdbCm5AbtKEBTtceFCfIoQESHpClN9ihAaHzKuM75KEAyg9UGi/woQCdXhtF+/ihAEyXLv6b/KEC0oblg//8oQFN/eSqF/yhAahYeeTT+KEA2+m2NCfwoQA4Ul4sA+ShAKr/NeRX1KECNOdU+RPAoQMyVb6CI6ihAxCuzQd7jKEB6U0OhQNwoQK78aRer0yhA6HUP1BjKKEAOb43chL8oQEnzWQnqsyhAnLyGA0OnKEBP3hBCipkoQDJR/Aa6iihAums2XMx6KEDRvTkQu2koQO8hbbJ/VyhAJBg3jxNEKED3p72rby8oQDsPSsGMGShATWlGOGMCKEDENMoi6+knQNomqTYc0CdAJAv2xu20J0AOd+m8VpgnQNDRGZBNeidAtofvPchaJ0BOIz1AvDknQPle34IeFydA/vJEWOPyJkDPy7hs/swmQNhHQ7hipSZAMuXvbgJ8JkDoJDzvzlAmQIYFaq64IyZAYehjIq/0JUC9dNCooMMlQJRs4mp6kCVA9olZPShbJUBWPg18lCMlQBIWN+Cn6SRAJZyGUEmtJEAUTdGpXW4kQCD56n7HLCRAgyzZzWboI0C9XSCoGKEjQHTOUsu2ViNAe75CJhcJI0BlEjJGC7giQO9w96VfYyJAOgYv19oKIkBApvR6PK4hQNYuA/w7TSFAorfq9obnIECXEJU1v3wgQE2hRhh4DCBAtsRFa2YsH0CGn/nCtzIeQFQPoEKCKh1AwfpBpBoSHEB4Lb2idOcaQOX33V8AqBlAUNSU+nVQGEC/etycgtwWQEGb5+M9RhVAoUyvpjGFE0AhRBBrcowRQOTkLq+6jA5AZ9oqtfYRCUD0Erx9GtEBQAAAAAAAAAAAAAAAAAAAAID0Erx9GtEBwAraKrX2EQnAmeQur7qMDsALRBBrcowRwI5Mr6YxhRPAQZvn4z1GFcC/etycgtwWwFDUlPp1UBjA5ffdXwCoGcBtLb2idOcawLD6QaQaEhzASQ+gQoIqHcCGn/nCtzIewLbERWtmLB/ATaFGGHgMIMCXEJU1v3wgwJu36vaG5yDA0y4D/DtNIcA8pvR6PK4hwDoGL9faCiLA73D3pV9jIsBlEjJGC7giwHu+QiYXCSPAcc5Sy7ZWI8C6XSCoGKEjwIAs2c1m6CPAHvnqfscsJMAUTdGpXW4kwCWchlBJrSTAEhY34KfpJMBWPg18lCMlwPKJWT0oWyXAkGzianqQJcC7dNCooMMlwGHoYyKv9CXAhgVqrrgjJsDoJDzvzlAmwDLl724CfCbA1kdDuGKlJsDNy7hs/swmwPzyRFjj8ibA+V7fgh4XJ8BOIz1AvDknwLaH7z3IWifA0NEZkE16J8ANd+m8VpgnwCIL9sbttCfA2SapNhzQJ8DCNMoi6+knwE1pRjhjAijAOw9KwYwZKMD3p72rby8owCQYN48TRCjA7yFtsn9XKMDQvTkQu2kowLlrNlzMeijAMlH8BrqKKMBP3hBCipkowJy8hgNDpyjASPNZCeqzKMAOb43chL8owOh1D9QYyijArfxpF6vTKMB6U0OhQNwowMQrs0He4yjAzJVvoIjqKMCNOdU+RPAowCq/zXkV9SjADhSXiwD5KMA3+m2NCfwowGoWHnk0/ijAU395KoX/KMC0oblg//8owBMly7+m/yjAJ1eG0X7+KMAyg9UGi/wowGh8yrjO+SjARIekKU32KMBUtceFCfIowHWwpuQG7SjAnN6fSUjnKMCotM6k0OAowBr+0dOi2SjAdNCHosHRKMD10r/LL8kowN125PnvvyjAt7CbxwS2KMC6uF/AcKsowFZOEGE2oCjAYvJ8GFiUKMASg+hH2IcowF6dhkO5eijAmCDzUv1sKMCmKqSxpl4owGvdVo+3TyjAgDh3EDJAKMBvTYNOGDAowAIQalhsHyjA7P/lMjAOKMBA5dPYZfwnwEPVhTsP6ifAI7ISQy7XJ8CWVKLOxMMnwM2LtrTUryfALB1xw1+bJ8D96tbAZ4YnwKZmEGvucCfAFHGnePVaJ8DIycKYfkQnwCMrX3OLLSfAxTCGqR0WJ8BAI4PVNv4mwLHCFYvY5SbAfCijVwTNJsAc12TCu7MmwG8NlkwAmibAJ3KfcdN/JsCAKkGnNmUmwJBuu10rSibAlKz1/7IuJsB1S6TzzhImwC0cbZmA9iXAuogKTcnZJcCKjm1lqrwlwMWR3jQlnyXAzxUdCTuBJcA3Z34r7WIlwDtCC+E8RCXAwoCcaislJcAK2vYEugUlwN+95ejp5STAfFRVS7zFJMAlrGtdMqUkwLUcoUxNhCTAUunXQg5jJMDUJ3NmdkEkwDr1bNqGHyTAD/5rvkD9I8COYdgupdojwKz170S1tyPANvLZFnKUI8DMCLq33HAjwC7vwjf2TCPAPWFIpL8oI8Cln9AHOgQjwCdwJWpm3yLA+6Nk0EW6IsDnKBA92ZQiwBupHbAhbyLADL4FJyBJIsAQutKc1SIiwJQMLwpD/CHAcURzZWnVIcDEs7OiSa4hwLq4zbPkhiHARK50iDtfIcDyhz4OTzchwLIbsDAgDyHAYRxJ2a/mIMDAx4/v/r0gwH9KHFkOlSDAzdyj+d5rIMC+mQOzcUIgwAUUS2XHGCDA71ON3cHdH8BtNhNYfokfwLjD7+/FNB/AjqKfV5rfHsCj+GY+/YkewMHJY1DwMx7A5OyfNnXdHcDymiKXjYYdwEGaARU7Lx3A9wlyUH/XHMCW0NjmW38cwFCw2nLSJhzAVQRsjOTNG8B/KeDIk3QbwFyV+LrhGhvA1Z3z8s/AGsAt9Jr+X2YawIvVUWmTCxrAf/MivGuwGcC/Fs596lQZwBh+1TIR+RjA//uKXeGcGMBt1Bx+XEAYwE1dohKE4xfAFWMol1mGF8C/U72F3igXwIAxfVYUyxbAWk+df/xsFsD02Hd1mA4WwHAnl6rprxXA6eTAj/FQFcDo/wCUsfEUwJNwtCQrkhTAxtCTrV8yFMC8yL2YUNITwGZRwU7/cRPA882nNm0RE8DL/f61m7ASwCTI4jCMTxLAcOIGCkDuEcARU8CiuIwRwBDRDlv3KhHATwKmkf3IEMAZmfajzGYQwGJSN+5lBBDA0qrblpVDD8Aa7O4q+X0OwDy1I0r5tw3AyQzHo5jxDMD4kgjl2SoMwD4uC7m/YwvA14b1yEycCsBgUgK8g9QJwMhxkDdnDAnA7uIy3/lDCMAPiMBUPnsHwPjFYzg3sgbAOfupKOfoBcBO0ZLCUB8FwAdqn6F2VQTA7WnhX1uLA8Bq4QmWAcECwJEWeNtr9gHALjBIxpwrAcAjxGHrlmAAwCKUDL25Kv+/ROi+ZOKT/b9k3RrxrPz7v04RaoMeZfq/vYobOzzN+L86tN81CzX3v/IuxI+QnPW/5YBPY9ED9L96oZzJ0mryv5VldtqZ0fC/jZ3lWFdw7r9DfhyqGj3rv64qjdGHCei/5mNs9qjV5L+X0l0+iKHhv3qOU5tf2ty/jLvljlNx1r/wDNebAAjQv/bnLQr2PMO/OexRZLimqb857FFkuKapP1bnLQr2PMM/oAzXmwAI0D+Mu+WOU3HWP3qOU5tf2tw/b9JdPoih4T/mY2z2qNXkP64qjdGHCeg/G34cqho96z9lneVYV3DuP5VldtqZ0fA/eqGcydJq8j/RgE9j0QP0P94uxI+QnPU/OrTfNQs19z+9ihs7PM34PzoRaoMeZfo/ZN0a8az8+z9E6L5k4pP9Pw6UDL25Kv8/GcRh65ZgAEAuMEjGnCsBQJEWeNtr9gFAYOEJlgHBAkDkaeFfW4sDQAdqn6F2VQRATtGSwlAfBUAw+6ko5+gFQPjFYzg3sgZAD4jAVD57B0Dk4jLf+UMIQL9xkDdnDAlAYFICvIPUCUDXhvXITJwKQDQuC7m/YwtA7pII5dkqDEDJDMejmPEMQDy1I0r5tw1AEOzuKvl9DkDSqtuWlUMPQGJSN+5lBBBAFJn2o8xmEEBLAqaR/cgQQBDRDlv3KhFAEVPAoriMEUBr4gYKQO4RQB/I4jCMTxJAy/3+tZuwEkDzzac2bRETQGFRwU7/cRNAusi9mFDSE0DG0JOtXzIUQI5wtCQrkhRA5v8AlLHxFEDn5MCP8VAVQHAnl6rprxVA79h3dZgOFkBXT51//GwWQIAxfVYUyxZAv1O9hd4oF0ATYyiXWYYXQEpdohKE4xdAbdQcflxAGED6+4pd4ZwYQBV+1TIR+RhAvBbOfepUGUB/8yK8a7AZQIbVUWmTCxpAKvSa/l9mGkDVnfPyz8AaQFiV+LrhGhtAfCngyJN0G0BTBGyM5M0bQFCw2nLSJhxAkdDY5lt/HED1CXJQf9ccQD6aARU7Lx1A8poil42GHUDf7J82dd0dQL/JY1DwMx5Ao/hmPv2JHkCJop9Xmt8eQLbD7+/FNB9AazYTWH6JH0DvU43dwd0fQAMUS2XHGCBAvZkDs3FCIEDM3KP53msgQH9KHFkOlSBAvseP7/69IEBgHEnZr+YgQLIbsDAgDyFA8Ic+Dk83IUBCrnSIO18hQLm4zbPkhiFAxLOzokmuIUBwRHNladUhQJQMLwpD/CFADrrSnNUiIkAMvgUnIEkiQBqpHbAhbyJA5igQPdmUIkD7o2TQRboiQCRwJWpm3yJApZ/QBzoEI0A9YUikvygjQC7vwjf2TCNAywi6t9xwI0A18tkWcpQjQKv170S1tyNAjmHYLqXaI0AO/mu+QP0jQDn1bNqGHyRA1CdzZnZBJEBR6ddCDmMkQLMcoUxNhCRAJaxrXTKlJEB8VFVLvMUkQN695ejp5SRACdr2BLoFJUDBgJxqKyUlQDtCC+E8RCVAN2d+K+1iJUDQFR0JO4ElQMWR3jQlnyVAiY5tZaq8JUC5iApNydklQCwcbZmA9iVAdUuk884SJkCTrPX/si4mQI9uu10rSiZAfypBpzZlJkAncp9x038mQG8NlkwAmiZAG9dkwruzJkB8KKNXBM0mQK7CFYvY5SZAPyOD1Tb+JkDEMIapHRYnQCMrX3OLLSdAyMnCmH5EJ0ATcad49VonQKZmEGvucCdA/erWwGeGJ0AtHXHDX5snQMyLtrTUrydAllSizsTDJ0AishJDLtcnQETVhTsP6idAP+XT2GX8J0Ds/+UyMA4oQAEQalhsHyhAb02DThgwKECAOHcQMkAoQGvdVo+3TyhApiqksaZeKECXIPNS/WwoQF2dhkO5eihAEoPoR9iHKEBi8nwYWJQoQFZOEGE2oChAurhfwHCrKEC3sJvHBLYoQNx25PnvvyhA9dK/yy/JKEBz0IeiwdEoQBn+0dOi2ShAqLTOpNDgKECc3p9JSOcoQHWwpuQG7ShAU7XHhQnyKEBEh6QpTfYoQGh8yrjO+ShAMoPVBov8KEAnV4bRfv4oQBMly7+m/yhAtKG5YP//KEBTf3kqhf8oQGoWHnk0/ihANvptjQn8KEAOFJeLAPkoQCq/zXkV9ShAjTnVPkTwKEDMlW+giOooQMQrs0He4yhAelNDoUDcKECu/GkXq9MoQOh1D9QYyihADm+N3IS/KEBJ81kJ6rMoQJy8hgNDpyhAT94QQoqZKEAyUfwGuoooQLprNlzMeihA0b05ELtpKEDvIW2yf1coQCQYN48TRChA96e9q28vKEA7D0rBjBkoQE1pRjhjAihAxDTKIuvpJ0DaJqk2HNAnQCQL9sbttCdADnfpvFaYJ0DQ0RmQTXonQLaH7z3IWidATiM9QLw5J0D5Xt+CHhcnQP7yRFjj8iZAz8u4bP7MJkDYR0O4YqUmQDLl724CfCZA6CQ8785QJkCGBWquuCMmQGHoYyKv9CVAvXTQqKDDJUCUbOJqepAlQPaJWT0oWyVAVj4NfJQjJUASFjfgp+kkQCWchlBJrSRAFE3RqV1uJEAg+ep+xywkQIMs2c1m6CNAvV0gqBihI0B0zlLLtlYjQHu+QiYXCSNAZRIyRgu4IkDvcPelX2MiQDoGL9faCiJAQKb0ejyuIUDWLgP8O00hQKK36vaG5yBAlxCVNb98IEBNoUYYeAwgQLbERWtmLB9Ahp/5wrcyHkBUD6BCgiodQMH6QaQaEhxAeC29onTnGkDl991fAKgZQFDUlPp1UBhAv3rcnILcFkBBm+fjPUYVQKFMr6YxhRNAIUQQa3KMEUDk5C6vuowOQGfaKrX2EQlA9BK8fRrRAUAAAAAAAAAAAA==",
          "dtype": "f8"
         }
        }
       ],
       "layout": {
        "coloraxis": {
         "colorbar": {
          "title": {
           "text": "y"
          }
         },
         "colorscale": [
          [
           0,
           "#0d0887"
          ],
          [
           0.1111111111111111,
           "#46039f"
          ],
          [
           0.2222222222222222,
           "#7201a8"
          ],
          [
           0.3333333333333333,
           "#9c179e"
          ],
          [
           0.4444444444444444,
           "#bd3786"
          ],
          [
           0.5555555555555556,
           "#d8576b"
          ],
          [
           0.6666666666666666,
           "#ed7953"
          ],
          [
           0.7777777777777778,
           "#fb9f3a"
          ],
          [
           0.8888888888888888,
           "#fdca26"
          ],
          [
           1,
           "#f0f921"
          ]
         ]
        },
        "legend": {
         "tracegroupgap": 0
        },
        "margin": {
         "t": 60
        },
        "scene": {
         "domain": {
          "x": [
           0,
           1
          ],
          "y": [
           0,
           1
          ]
         },
         "xaxis": {
          "title": {
           "text": "x1"
          }
         },
         "yaxis": {
          "title": {
           "text": "x2"
          }
         },
         "zaxis": {
          "title": {
           "text": "x1_x2"
          }
         }
        },
        "template": {
         "data": {
          "bar": [
           {
            "error_x": {
             "color": "#2a3f5f"
            },
            "error_y": {
             "color": "#2a3f5f"
            },
            "marker": {
             "line": {
              "color": "#E5ECF6",
              "width": 0.5
             },
             "pattern": {
              "fillmode": "overlay",
              "size": 10,
              "solidity": 0.2
             }
            },
            "type": "bar"
           }
          ],
          "barpolar": [
           {
            "marker": {
             "line": {
              "color": "#E5ECF6",
              "width": 0.5
             },
             "pattern": {
              "fillmode": "overlay",
              "size": 10,
              "solidity": 0.2
             }
            },
            "type": "barpolar"
           }
          ],
          "carpet": [
           {
            "aaxis": {
             "endlinecolor": "#2a3f5f",
             "gridcolor": "white",
             "linecolor": "white",
             "minorgridcolor": "white",
             "startlinecolor": "#2a3f5f"
            },
            "baxis": {
             "endlinecolor": "#2a3f5f",
             "gridcolor": "white",
             "linecolor": "white",
             "minorgridcolor": "white",
             "startlinecolor": "#2a3f5f"
            },
            "type": "carpet"
           }
          ],
          "choropleth": [
           {
            "colorbar": {
             "outlinewidth": 0,
             "ticks": ""
            },
            "type": "choropleth"
           }
          ],
          "contour": [
           {
            "colorbar": {
             "outlinewidth": 0,
             "ticks": ""
            },
            "colorscale": [
             [
              0,
              "#0d0887"
             ],
             [
              0.1111111111111111,
              "#46039f"
             ],
             [
              0.2222222222222222,
              "#7201a8"
             ],
             [
              0.3333333333333333,
              "#9c179e"
             ],
             [
              0.4444444444444444,
              "#bd3786"
             ],
             [
              0.5555555555555556,
              "#d8576b"
             ],
             [
              0.6666666666666666,
              "#ed7953"
             ],
             [
              0.7777777777777778,
              "#fb9f3a"
             ],
             [
              0.8888888888888888,
              "#fdca26"
             ],
             [
              1,
              "#f0f921"
             ]
            ],
            "type": "contour"
           }
          ],
          "contourcarpet": [
           {
            "colorbar": {
             "outlinewidth": 0,
             "ticks": ""
            },
            "type": "contourcarpet"
           }
          ],
          "heatmap": [
           {
            "colorbar": {
             "outlinewidth": 0,
             "ticks": ""
            },
            "colorscale": [
             [
              0,
              "#0d0887"
             ],
             [
              0.1111111111111111,
              "#46039f"
             ],
             [
              0.2222222222222222,
              "#7201a8"
             ],
             [
              0.3333333333333333,
              "#9c179e"
             ],
             [
              0.4444444444444444,
              "#bd3786"
             ],
             [
              0.5555555555555556,
              "#d8576b"
             ],
             [
              0.6666666666666666,
              "#ed7953"
             ],
             [
              0.7777777777777778,
              "#fb9f3a"
             ],
             [
              0.8888888888888888,
              "#fdca26"
             ],
             [
              1,
              "#f0f921"
             ]
            ],
            "type": "heatmap"
           }
          ],
          "histogram": [
           {
            "marker": {
             "pattern": {
              "fillmode": "overlay",
              "size": 10,
              "solidity": 0.2
             }
            },
            "type": "histogram"
           }
          ],
          "histogram2d": [
           {
            "colorbar": {
             "outlinewidth": 0,
             "ticks": ""
            },
            "colorscale": [
             [
              0,
              "#0d0887"
             ],
             [
              0.1111111111111111,
              "#46039f"
             ],
             [
              0.2222222222222222,
              "#7201a8"
             ],
             [
              0.3333333333333333,
              "#9c179e"
             ],
             [
              0.4444444444444444,
              "#bd3786"
             ],
             [
              0.5555555555555556,
              "#d8576b"
             ],
             [
              0.6666666666666666,
              "#ed7953"
             ],
             [
              0.7777777777777778,
              "#fb9f3a"
             ],
             [
              0.8888888888888888,
              "#fdca26"
             ],
             [
              1,
              "#f0f921"
             ]
            ],
            "type": "histogram2d"
           }
          ],
          "histogram2dcontour": [
           {
            "colorbar": {
             "outlinewidth": 0,
             "ticks": ""
            },
            "colorscale": [
             [
              0,
              "#0d0887"
             ],
             [
              0.1111111111111111,
              "#46039f"
             ],
             [
              0.2222222222222222,
              "#7201a8"
             ],
             [
              0.3333333333333333,
              "#9c179e"
             ],
             [
              0.4444444444444444,
              "#bd3786"
             ],
             [
              0.5555555555555556,
              "#d8576b"
             ],
             [
              0.6666666666666666,
              "#ed7953"
             ],
             [
              0.7777777777777778,
              "#fb9f3a"
             ],
             [
              0.8888888888888888,
              "#fdca26"
             ],
             [
              1,
              "#f0f921"
             ]
            ],
            "type": "histogram2dcontour"
           }
          ],
          "mesh3d": [
           {
            "colorbar": {
             "outlinewidth": 0,
             "ticks": ""
            },
            "type": "mesh3d"
           }
          ],
          "parcoords": [
           {
            "line": {
             "colorbar": {
              "outlinewidth": 0,
              "ticks": ""
             }
            },
            "type": "parcoords"
           }
          ],
          "pie": [
           {
            "automargin": true,
            "type": "pie"
           }
          ],
          "scatter": [
           {
            "fillpattern": {
             "fillmode": "overlay",
             "size": 10,
             "solidity": 0.2
            },
            "type": "scatter"
           }
          ],
          "scatter3d": [
           {
            "line": {
             "colorbar": {
              "outlinewidth": 0,
              "ticks": ""
             }
            },
            "marker": {
             "colorbar": {
              "outlinewidth": 0,
              "ticks": ""
             }
            },
            "type": "scatter3d"
           }
          ],
          "scattercarpet": [
           {
            "marker": {
             "colorbar": {
              "outlinewidth": 0,
              "ticks": ""
             }
            },
            "type": "scattercarpet"
           }
          ],
          "scattergeo": [
           {
            "marker": {
             "colorbar": {
              "outlinewidth": 0,
              "ticks": ""
             }
            },
            "type": "scattergeo"
           }
          ],
          "scattergl": [
           {
            "marker": {
             "colorbar": {
              "outlinewidth": 0,
              "ticks": ""
             }
            },
            "type": "scattergl"
           }
          ],
          "scattermap": [
           {
            "marker": {
             "colorbar": {
              "outlinewidth": 0,
              "ticks": ""
             }
            },
            "type": "scattermap"
           }
          ],
          "scattermapbox": [
           {
            "marker": {
             "colorbar": {
              "outlinewidth": 0,
              "ticks": ""
             }
            },
            "type": "scattermapbox"
           }
          ],
          "scatterpolar": [
           {
            "marker": {
             "colorbar": {
              "outlinewidth": 0,
              "ticks": ""
             }
            },
            "type": "scatterpolar"
           }
          ],
          "scatterpolargl": [
           {
            "marker": {
             "colorbar": {
              "outlinewidth": 0,
              "ticks": ""
             }
            },
            "type": "scatterpolargl"
           }
          ],
          "scatterternary": [
           {
            "marker": {
             "colorbar": {
              "outlinewidth": 0,
              "ticks": ""
             }
            },
            "type": "scatterternary"
           }
          ],
          "surface": [
           {
            "colorbar": {
             "outlinewidth": 0,
             "ticks": ""
            },
            "colorscale": [
             [
              0,
              "#0d0887"
             ],
             [
              0.1111111111111111,
              "#46039f"
             ],
             [
              0.2222222222222222,
              "#7201a8"
             ],
             [
              0.3333333333333333,
              "#9c179e"
             ],
             [
              0.4444444444444444,
              "#bd3786"
             ],
             [
              0.5555555555555556,
              "#d8576b"
             ],
             [
              0.6666666666666666,
              "#ed7953"
             ],
             [
              0.7777777777777778,
              "#fb9f3a"
             ],
             [
              0.8888888888888888,
              "#fdca26"
             ],
             [
              1,
              "#f0f921"
             ]
            ],
            "type": "surface"
           }
          ],
          "table": [
           {
            "cells": {
             "fill": {
              "color": "#EBF0F8"
             },
             "line": {
              "color": "white"
             }
            },
            "header": {
             "fill": {
              "color": "#C8D4E3"
             },
             "line": {
              "color": "white"
             }
            },
            "type": "table"
           }
          ]
         },
         "layout": {
          "annotationdefaults": {
           "arrowcolor": "#2a3f5f",
           "arrowhead": 0,
           "arrowwidth": 1
          },
          "autotypenumbers": "strict",
          "coloraxis": {
           "colorbar": {
            "outlinewidth": 0,
            "ticks": ""
           }
          },
          "colorscale": {
           "diverging": [
            [
             0,
             "#8e0152"
            ],
            [
             0.1,
             "#c51b7d"
            ],
            [
             0.2,
             "#de77ae"
            ],
            [
             0.3,
             "#f1b6da"
            ],
            [
             0.4,
             "#fde0ef"
            ],
            [
             0.5,
             "#f7f7f7"
            ],
            [
             0.6,
             "#e6f5d0"
            ],
            [
             0.7,
             "#b8e186"
            ],
            [
             0.8,
             "#7fbc41"
            ],
            [
             0.9,
             "#4d9221"
            ],
            [
             1,
             "#276419"
            ]
           ],
           "sequential": [
            [
             0,
             "#0d0887"
            ],
            [
             0.1111111111111111,
             "#46039f"
            ],
            [
             0.2222222222222222,
             "#7201a8"
            ],
            [
             0.3333333333333333,
             "#9c179e"
            ],
            [
             0.4444444444444444,
             "#bd3786"
            ],
            [
             0.5555555555555556,
             "#d8576b"
            ],
            [
             0.6666666666666666,
             "#ed7953"
            ],
            [
             0.7777777777777778,
             "#fb9f3a"
            ],
            [
             0.8888888888888888,
             "#fdca26"
            ],
            [
             1,
             "#f0f921"
            ]
           ],
           "sequentialminus": [
            [
             0,
             "#0d0887"
            ],
            [
             0.1111111111111111,
             "#46039f"
            ],
            [
             0.2222222222222222,
             "#7201a8"
            ],
            [
             0.3333333333333333,
             "#9c179e"
            ],
            [
             0.4444444444444444,
             "#bd3786"
            ],
            [
             0.5555555555555556,
             "#d8576b"
            ],
            [
             0.6666666666666666,
             "#ed7953"
            ],
            [
             0.7777777777777778,
             "#fb9f3a"
            ],
            [
             0.8888888888888888,
             "#fdca26"
            ],
            [
             1,
             "#f0f921"
            ]
           ]
          },
          "colorway": [
           "#636efa",
           "#EF553B",
           "#00cc96",
           "#ab63fa",
           "#FFA15A",
           "#19d3f3",
           "#FF6692",
           "#B6E880",
           "#FF97FF",
           "#FECB52"
          ],
          "font": {
           "color": "#2a3f5f"
          },
          "geo": {
           "bgcolor": "white",
           "lakecolor": "white",
           "landcolor": "#E5ECF6",
           "showlakes": true,
           "showland": true,
           "subunitcolor": "white"
          },
          "hoverlabel": {
           "align": "left"
          },
          "hovermode": "closest",
          "mapbox": {
           "style": "light"
          },
          "paper_bgcolor": "white",
          "plot_bgcolor": "#E5ECF6",
          "polar": {
           "angularaxis": {
            "gridcolor": "white",
            "linecolor": "white",
            "ticks": ""
           },
           "bgcolor": "#E5ECF6",
           "radialaxis": {
            "gridcolor": "white",
            "linecolor": "white",
            "ticks": ""
           }
          },
          "scene": {
           "xaxis": {
            "backgroundcolor": "#E5ECF6",
            "gridcolor": "white",
            "gridwidth": 2,
            "linecolor": "white",
            "showbackground": true,
            "ticks": "",
            "zerolinecolor": "white"
           },
           "yaxis": {
            "backgroundcolor": "#E5ECF6",
            "gridcolor": "white",
            "gridwidth": 2,
            "linecolor": "white",
            "showbackground": true,
            "ticks": "",
            "zerolinecolor": "white"
           },
           "zaxis": {
            "backgroundcolor": "#E5ECF6",
            "gridcolor": "white",
            "gridwidth": 2,
            "linecolor": "white",
            "showbackground": true,
            "ticks": "",
            "zerolinecolor": "white"
           }
          },
          "shapedefaults": {
           "line": {
            "color": "#2a3f5f"
           }
          },
          "ternary": {
           "aaxis": {
            "gridcolor": "white",
            "linecolor": "white",
            "ticks": ""
           },
           "baxis": {
            "gridcolor": "white",
            "linecolor": "white",
            "ticks": ""
           },
           "bgcolor": "#E5ECF6",
           "caxis": {
            "gridcolor": "white",
            "linecolor": "white",
            "ticks": ""
           }
          },
          "title": {
           "x": 0.05
          },
          "xaxis": {
           "automargin": true,
           "gridcolor": "white",
           "linecolor": "white",
           "ticks": "",
           "title": {
            "standoff": 15
           },
           "zerolinecolor": "white",
           "zerolinewidth": 2
          },
          "yaxis": {
           "automargin": true,
           "gridcolor": "white",
           "linecolor": "white",
           "ticks": "",
           "title": {
            "standoff": 15
           },
           "zerolinecolor": "white",
           "zerolinewidth": 2
          }
         }
        }
       }
      }
     },
     "metadata": {},
     "output_type": "display_data"
    }
   ],
   "source": [
    "import plotly.express as px\n",
    "\n",
    "fig = px.scatter_3d(df, x='x1', y='x2', z='x1_x2',color='y')\n",
    "fig.show()"
   ]
  },
  {
   "cell_type": "code",
   "execution_count": null,
   "metadata": {},
   "outputs": [],
   "source": []
  }
 ],
 "metadata": {
  "kernelspec": {
   "display_name": "Python 3",
   "language": "python",
   "name": "python3"
  },
  "language_info": {
   "codemirror_mode": {
    "name": "ipython",
    "version": 3
   },
   "file_extension": ".py",
   "mimetype": "text/x-python",
   "name": "python",
   "nbconvert_exporter": "python",
   "pygments_lexer": "ipython3",
   "version": "3.12.4"
  }
 },
 "nbformat": 4,
 "nbformat_minor": 2
}
